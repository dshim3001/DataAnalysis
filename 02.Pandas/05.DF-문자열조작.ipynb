{
 "cells": [
  {
   "cell_type": "markdown",
   "metadata": {},
   "source": [
    "# Pandas - 문자열 조작"
   ]
  },
  {
   "cell_type": "code",
   "execution_count": 1,
   "metadata": {},
   "outputs": [],
   "source": [
    "import numpy as np\n",
    "import pandas as pd"
   ]
  },
  {
   "cell_type": "code",
   "execution_count": 4,
   "metadata": {},
   "outputs": [
    {
     "data": {
      "text/html": [
       "<div>\n",
       "<style scoped>\n",
       "    .dataframe tbody tr th:only-of-type {\n",
       "        vertical-align: middle;\n",
       "    }\n",
       "\n",
       "    .dataframe tbody tr th {\n",
       "        vertical-align: top;\n",
       "    }\n",
       "\n",
       "    .dataframe thead th {\n",
       "        text-align: right;\n",
       "    }\n",
       "</style>\n",
       "<table border=\"1\" class=\"dataframe\">\n",
       "  <thead>\n",
       "    <tr style=\"text-align: right;\">\n",
       "      <th></th>\n",
       "      <th>법정동코드</th>\n",
       "      <th>법정동명</th>\n",
       "      <th>폐지여부</th>\n",
       "    </tr>\n",
       "  </thead>\n",
       "  <tbody>\n",
       "    <tr>\n",
       "      <th>0</th>\n",
       "      <td>1100000000</td>\n",
       "      <td>서울특별시</td>\n",
       "      <td>존재</td>\n",
       "    </tr>\n",
       "    <tr>\n",
       "      <th>1</th>\n",
       "      <td>1111000000</td>\n",
       "      <td>서울특별시 종로구</td>\n",
       "      <td>존재</td>\n",
       "    </tr>\n",
       "    <tr>\n",
       "      <th>2</th>\n",
       "      <td>1111010100</td>\n",
       "      <td>서울특별시 종로구 청운동</td>\n",
       "      <td>존재</td>\n",
       "    </tr>\n",
       "    <tr>\n",
       "      <th>3</th>\n",
       "      <td>1111010200</td>\n",
       "      <td>서울특별시 종로구 신교동</td>\n",
       "      <td>존재</td>\n",
       "    </tr>\n",
       "    <tr>\n",
       "      <th>4</th>\n",
       "      <td>1111010300</td>\n",
       "      <td>서울특별시 종로구 궁정동</td>\n",
       "      <td>존재</td>\n",
       "    </tr>\n",
       "  </tbody>\n",
       "</table>\n",
       "</div>"
      ],
      "text/plain": [
       "        법정동코드           법정동명 폐지여부\n",
       "0  1100000000          서울특별시   존재\n",
       "1  1111000000      서울특별시 종로구   존재\n",
       "2  1111010100  서울특별시 종로구 청운동   존재\n",
       "3  1111010200  서울특별시 종로구 신교동   존재\n",
       "4  1111010300  서울특별시 종로구 궁정동   존재"
      ]
     },
     "execution_count": 4,
     "metadata": {},
     "output_type": "execute_result"
    }
   ],
   "source": [
    "df = pd.read_csv('법정동코드 전체자료.txt', sep='\\t', encoding='EUC-KR')\n",
    "df.head()"
   ]
  },
  {
   "cell_type": "code",
   "execution_count": 3,
   "metadata": {},
   "outputs": [
    {
     "name": "stdout",
     "output_type": "stream",
     "text": [
      "<class 'pandas.core.frame.DataFrame'>\n",
      "RangeIndex: 46328 entries, 0 to 46327\n",
      "Data columns (total 1 columns):\n",
      " #   Column           Non-Null Count  Dtype \n",
      "---  ------           --------------  ----- \n",
      " 0   법정동코드\t법정동명\t폐지여부  46328 non-null  object\n",
      "dtypes: object(1)\n",
      "memory usage: 362.1+ KB\n"
     ]
    }
   ],
   "source": [
    "df.info()"
   ]
  },
  {
   "cell_type": "code",
   "execution_count": 5,
   "metadata": {},
   "outputs": [
    {
     "data": {
      "text/plain": [
       "(46328, (46328, 3))"
      ]
     },
     "execution_count": 5,
     "metadata": {},
     "output_type": "execute_result"
    }
   ],
   "source": [
    "len(df), df.shape"
   ]
  },
  {
   "cell_type": "code",
   "execution_count": 6,
   "metadata": {},
   "outputs": [
    {
     "data": {
      "text/plain": [
       "(20551, 3)"
      ]
     },
     "execution_count": 6,
     "metadata": {},
     "output_type": "execute_result"
    }
   ],
   "source": [
    "# 폐지된 주소는 삭제되도록 필터링\n",
    "df = df[df.폐지여부 == '존재']\n",
    "df.shape"
   ]
  },
  {
   "cell_type": "markdown",
   "metadata": {},
   "source": [
    "- 인덱싱"
   ]
  },
  {
   "cell_type": "code",
   "execution_count": 7,
   "metadata": {},
   "outputs": [
    {
     "data": {
      "text/plain": [
       "0    서울특별시\n",
       "1    서울특별시\n",
       "2    서울특별시\n",
       "3    서울특별시\n",
       "4    서울특별시\n",
       "Name: 법정동명, dtype: object"
      ]
     },
     "execution_count": 7,
     "metadata": {},
     "output_type": "execute_result"
    }
   ],
   "source": [
    "df.법정동명.str[:5].head()"
   ]
  },
  {
   "cell_type": "markdown",
   "metadata": {},
   "source": [
    "- 찾기:find"
   ]
  },
  {
   "cell_type": "code",
   "execution_count": 10,
   "metadata": {},
   "outputs": [
    {
     "data": {
      "text/plain": [
       "0    0\n",
       "1    0\n",
       "2    0\n",
       "3    0\n",
       "4    0\n",
       "Name: 법정동명, dtype: int64"
      ]
     },
     "execution_count": 10,
     "metadata": {},
     "output_type": "execute_result"
    }
   ],
   "source": [
    "df.법정동명.str.find('서울').head()         # 0 이상인 값이면 문자열 포함, 아니면 아님"
   ]
  },
  {
   "cell_type": "code",
   "execution_count": 11,
   "metadata": {},
   "outputs": [
    {
     "data": {
      "text/plain": [
       "46323   -1\n",
       "46324   -1\n",
       "46325   -1\n",
       "46326   -1\n",
       "46327   -1\n",
       "Name: 법정동명, dtype: int64"
      ]
     },
     "execution_count": 11,
     "metadata": {},
     "output_type": "execute_result"
    }
   ],
   "source": [
    "df.법정동명.str.find('서울').tail()  "
   ]
  },
  {
   "cell_type": "markdown",
   "metadata": {},
   "source": [
    "- 분할: split"
   ]
  },
  {
   "cell_type": "code",
   "execution_count": 12,
   "metadata": {},
   "outputs": [
    {
     "data": {
      "text/plain": [
       "0              [서울특별시]\n",
       "1         [서울특별시, 종로구]\n",
       "2    [서울특별시, 종로구, 청운동]\n",
       "3    [서울특별시, 종로구, 신교동]\n",
       "4    [서울특별시, 종로구, 궁정동]\n",
       "Name: 법정동명, dtype: object"
      ]
     },
     "execution_count": 12,
     "metadata": {},
     "output_type": "execute_result"
    }
   ],
   "source": [
    "df.법정동명.str.split().head()  "
   ]
  },
  {
   "cell_type": "markdown",
   "metadata": {},
   "source": [
    "- 포함글자 인식"
   ]
  },
  {
   "cell_type": "code",
   "execution_count": 13,
   "metadata": {},
   "outputs": [
    {
     "data": {
      "text/plain": [
       "0    True\n",
       "1    True\n",
       "2    True\n",
       "3    True\n",
       "4    True\n",
       "Name: 법정동명, dtype: bool"
      ]
     },
     "execution_count": 13,
     "metadata": {},
     "output_type": "execute_result"
    }
   ],
   "source": [
    "df.법정동명.str.contains('서울').head()"
   ]
  },
  {
   "cell_type": "code",
   "execution_count": 14,
   "metadata": {},
   "outputs": [
    {
     "data": {
      "text/html": [
       "<div>\n",
       "<style scoped>\n",
       "    .dataframe tbody tr th:only-of-type {\n",
       "        vertical-align: middle;\n",
       "    }\n",
       "\n",
       "    .dataframe tbody tr th {\n",
       "        vertical-align: top;\n",
       "    }\n",
       "\n",
       "    .dataframe thead th {\n",
       "        text-align: right;\n",
       "    }\n",
       "</style>\n",
       "<table border=\"1\" class=\"dataframe\">\n",
       "  <thead>\n",
       "    <tr style=\"text-align: right;\">\n",
       "      <th></th>\n",
       "      <th>법정동코드</th>\n",
       "      <th>법정동명</th>\n",
       "      <th>폐지여부</th>\n",
       "    </tr>\n",
       "  </thead>\n",
       "  <tbody>\n",
       "    <tr>\n",
       "      <th>975</th>\n",
       "      <td>1165000000</td>\n",
       "      <td>서울특별시 서초구</td>\n",
       "      <td>존재</td>\n",
       "    </tr>\n",
       "    <tr>\n",
       "      <th>977</th>\n",
       "      <td>1165010100</td>\n",
       "      <td>서울특별시 서초구 방배동</td>\n",
       "      <td>존재</td>\n",
       "    </tr>\n",
       "    <tr>\n",
       "      <th>978</th>\n",
       "      <td>1165010200</td>\n",
       "      <td>서울특별시 서초구 양재동</td>\n",
       "      <td>존재</td>\n",
       "    </tr>\n",
       "    <tr>\n",
       "      <th>979</th>\n",
       "      <td>1165010300</td>\n",
       "      <td>서울특별시 서초구 우면동</td>\n",
       "      <td>존재</td>\n",
       "    </tr>\n",
       "    <tr>\n",
       "      <th>980</th>\n",
       "      <td>1165010400</td>\n",
       "      <td>서울특별시 서초구 원지동</td>\n",
       "      <td>존재</td>\n",
       "    </tr>\n",
       "    <tr>\n",
       "      <th>982</th>\n",
       "      <td>1165010600</td>\n",
       "      <td>서울특별시 서초구 잠원동</td>\n",
       "      <td>존재</td>\n",
       "    </tr>\n",
       "    <tr>\n",
       "      <th>983</th>\n",
       "      <td>1165010700</td>\n",
       "      <td>서울특별시 서초구 반포동</td>\n",
       "      <td>존재</td>\n",
       "    </tr>\n",
       "    <tr>\n",
       "      <th>984</th>\n",
       "      <td>1165010800</td>\n",
       "      <td>서울특별시 서초구 서초동</td>\n",
       "      <td>존재</td>\n",
       "    </tr>\n",
       "    <tr>\n",
       "      <th>985</th>\n",
       "      <td>1165010900</td>\n",
       "      <td>서울특별시 서초구 내곡동</td>\n",
       "      <td>존재</td>\n",
       "    </tr>\n",
       "    <tr>\n",
       "      <th>986</th>\n",
       "      <td>1165011000</td>\n",
       "      <td>서울특별시 서초구 염곡동</td>\n",
       "      <td>존재</td>\n",
       "    </tr>\n",
       "    <tr>\n",
       "      <th>987</th>\n",
       "      <td>1165011100</td>\n",
       "      <td>서울특별시 서초구 신원동</td>\n",
       "      <td>존재</td>\n",
       "    </tr>\n",
       "    <tr>\n",
       "      <th>21029</th>\n",
       "      <td>4481033033</td>\n",
       "      <td>충청남도 예산군 광시면 서초정리</td>\n",
       "      <td>존재</td>\n",
       "    </tr>\n",
       "  </tbody>\n",
       "</table>\n",
       "</div>"
      ],
      "text/plain": [
       "            법정동코드               법정동명 폐지여부\n",
       "975    1165000000          서울특별시 서초구   존재\n",
       "977    1165010100      서울특별시 서초구 방배동   존재\n",
       "978    1165010200      서울특별시 서초구 양재동   존재\n",
       "979    1165010300      서울특별시 서초구 우면동   존재\n",
       "980    1165010400      서울특별시 서초구 원지동   존재\n",
       "982    1165010600      서울특별시 서초구 잠원동   존재\n",
       "983    1165010700      서울특별시 서초구 반포동   존재\n",
       "984    1165010800      서울특별시 서초구 서초동   존재\n",
       "985    1165010900      서울특별시 서초구 내곡동   존재\n",
       "986    1165011000      서울특별시 서초구 염곡동   존재\n",
       "987    1165011100      서울특별시 서초구 신원동   존재\n",
       "21029  4481033033  충청남도 예산군 광시면 서초정리   존재"
      ]
     },
     "execution_count": 14,
     "metadata": {},
     "output_type": "execute_result"
    }
   ],
   "source": [
    "# numpy bool indexing 처럼 사용\n",
    "seocho = df[df.법정동명.str.contains('서초')]\n",
    "seocho"
   ]
  },
  {
   "cell_type": "markdown",
   "metadata": {},
   "source": [
    "- 문자 대체: replace"
   ]
  },
  {
   "cell_type": "code",
   "execution_count": 15,
   "metadata": {},
   "outputs": [
    {
     "data": {
      "text/plain": [
       "0            서울특별시\n",
       "1        서울특별시_종로구\n",
       "2    서울특별시_종로구_청운동\n",
       "3    서울특별시_종로구_신교동\n",
       "4    서울특별시_종로구_궁정동\n",
       "Name: 법정동명, dtype: object"
      ]
     },
     "execution_count": 15,
     "metadata": {},
     "output_type": "execute_result"
    }
   ],
   "source": [
    "df.법정동명.str.replace(' ','_').head()"
   ]
  },
  {
   "cell_type": "code",
   "execution_count": 16,
   "metadata": {},
   "outputs": [
    {
     "name": "stderr",
     "output_type": "stream",
     "text": [
      "C:\\Users\\dshim\\AppData\\Local\\Temp/ipykernel_14752/744873427.py:2: FutureWarning: The default value of regex will change from True to False in a future version.\n",
      "  seocho.법정동명 = seocho.법정동명.str.replace('[^가-힣]', ' ')\n",
      "C:\\Users\\dshim\\anaconda3\\lib\\site-packages\\pandas\\core\\generic.py:5516: SettingWithCopyWarning: \n",
      "A value is trying to be set on a copy of a slice from a DataFrame.\n",
      "Try using .loc[row_indexer,col_indexer] = value instead\n",
      "\n",
      "See the caveats in the documentation: https://pandas.pydata.org/pandas-docs/stable/user_guide/indexing.html#returning-a-view-versus-a-copy\n",
      "  self[name] = value\n"
     ]
    },
    {
     "data": {
      "text/html": [
       "<div>\n",
       "<style scoped>\n",
       "    .dataframe tbody tr th:only-of-type {\n",
       "        vertical-align: middle;\n",
       "    }\n",
       "\n",
       "    .dataframe tbody tr th {\n",
       "        vertical-align: top;\n",
       "    }\n",
       "\n",
       "    .dataframe thead th {\n",
       "        text-align: right;\n",
       "    }\n",
       "</style>\n",
       "<table border=\"1\" class=\"dataframe\">\n",
       "  <thead>\n",
       "    <tr style=\"text-align: right;\">\n",
       "      <th></th>\n",
       "      <th>법정동코드</th>\n",
       "      <th>법정동명</th>\n",
       "      <th>폐지여부</th>\n",
       "    </tr>\n",
       "  </thead>\n",
       "  <tbody>\n",
       "    <tr>\n",
       "      <th>975</th>\n",
       "      <td>1165000000</td>\n",
       "      <td>서울특별시 서초구</td>\n",
       "      <td>존재</td>\n",
       "    </tr>\n",
       "    <tr>\n",
       "      <th>977</th>\n",
       "      <td>1165010100</td>\n",
       "      <td>서울특별시 서초구 방배동</td>\n",
       "      <td>존재</td>\n",
       "    </tr>\n",
       "    <tr>\n",
       "      <th>978</th>\n",
       "      <td>1165010200</td>\n",
       "      <td>서울특별시 서초구 양재동</td>\n",
       "      <td>존재</td>\n",
       "    </tr>\n",
       "    <tr>\n",
       "      <th>979</th>\n",
       "      <td>1165010300</td>\n",
       "      <td>서울특별시 서초구 우면동</td>\n",
       "      <td>존재</td>\n",
       "    </tr>\n",
       "    <tr>\n",
       "      <th>980</th>\n",
       "      <td>1165010400</td>\n",
       "      <td>서울특별시 서초구 원지동</td>\n",
       "      <td>존재</td>\n",
       "    </tr>\n",
       "  </tbody>\n",
       "</table>\n",
       "</div>"
      ],
      "text/plain": [
       "          법정동코드           법정동명 폐지여부\n",
       "975  1165000000      서울특별시 서초구   존재\n",
       "977  1165010100  서울특별시 서초구 방배동   존재\n",
       "978  1165010200  서울특별시 서초구 양재동   존재\n",
       "979  1165010300  서울특별시 서초구 우면동   존재\n",
       "980  1165010400  서울특별시 서초구 원지동   존재"
      ]
     },
     "execution_count": 16,
     "metadata": {},
     "output_type": "execute_result"
    }
   ],
   "source": [
    "# .str.replace()에서는 정규표현식 사용가능\n",
    "seocho.법정동명 = seocho.법정동명.str.replace('[^가-힣]', ' ')\n",
    "seocho.head()"
   ]
  },
  {
   "cell_type": "code",
   "execution_count": 17,
   "metadata": {},
   "outputs": [
    {
     "data": {
      "text/plain": [
       "0    83557\n",
       "1     1715\n",
       "2     2447\n",
       "3     2611\n",
       "4     3829\n",
       "Name: 총계, dtype: int64"
      ]
     },
     "execution_count": 17,
     "metadata": {},
     "output_type": "execute_result"
    }
   ],
   "source": [
    "filename = '서울시CCTV설치운영현황(자치구)_년도별_211231기준.csv'\n",
    "cctv = pd.read_csv(filename, skiprows=1, encoding='EUC-KR')\n",
    "cctv['총계'].apply(lambda x: int(x.replace(',',''))).head()"
   ]
  },
  {
   "cell_type": "code",
   "execution_count": 18,
   "metadata": {},
   "outputs": [
    {
     "data": {
      "text/plain": [
       "0    83557\n",
       "1     1715\n",
       "2     2447\n",
       "3     2611\n",
       "4     3829\n",
       "Name: 총계, dtype: int32"
      ]
     },
     "execution_count": 18,
     "metadata": {},
     "output_type": "execute_result"
    }
   ],
   "source": [
    "cctv['총계'].str.replace(',','').astype(int).head()"
   ]
  },
  {
   "cell_type": "code",
   "execution_count": 20,
   "metadata": {},
   "outputs": [
    {
     "data": {
      "text/plain": [
       "array([['A', 'B', 'C', 'D', 'E'],\n",
       "       ['0.01', '0.5', '0.11', '0.05', '0.69'],\n",
       "       ['0.49', '0.9', '0.65', '0.9', '0.72'],\n",
       "       ['0.83', '0.83', '0.83', '0.96', '0.37']], dtype='<U32')"
      ]
     },
     "execution_count": 20,
     "metadata": {},
     "output_type": "execute_result"
    }
   ],
   "source": [
    "np.random.seed(2022)\n",
    "data = np.vstack([list('ABCDE'), np.random.rand(3,5).round(2)])\n",
    "data"
   ]
  },
  {
   "cell_type": "code",
   "execution_count": 21,
   "metadata": {},
   "outputs": [
    {
     "data": {
      "text/plain": [
       "array([['A', 'B', 'C', 'D', 'E'],\n",
       "       ['0.01', '0.5', '0.11', '0.05', '0.69'],\n",
       "       ['0.49', '0.9', '0.65', '0.9', '0.72'],\n",
       "       ['0.83', '0.83', '0.83', '0.96', '0.37']], dtype='<U32')"
      ]
     },
     "execution_count": 21,
     "metadata": {},
     "output_type": "execute_result"
    }
   ],
   "source": [
    "data"
   ]
  },
  {
   "cell_type": "code",
   "execution_count": 22,
   "metadata": {},
   "outputs": [
    {
     "data": {
      "text/plain": [
       "array([['A', '0.01', '0.49', '0.83'],\n",
       "       ['B', '0.5', '0.9', '0.83'],\n",
       "       ['C', '0.11', '0.65', '0.83'],\n",
       "       ['D', '0.05', '0.9', '0.96'],\n",
       "       ['E', '0.69', '0.72', '0.37']], dtype='<U32')"
      ]
     },
     "execution_count": 22,
     "metadata": {},
     "output_type": "execute_result"
    }
   ],
   "source": [
    "data.T"
   ]
  },
  {
   "cell_type": "code",
   "execution_count": 24,
   "metadata": {},
   "outputs": [
    {
     "data": {
      "text/html": [
       "<div>\n",
       "<style scoped>\n",
       "    .dataframe tbody tr th:only-of-type {\n",
       "        vertical-align: middle;\n",
       "    }\n",
       "\n",
       "    .dataframe tbody tr th {\n",
       "        vertical-align: top;\n",
       "    }\n",
       "\n",
       "    .dataframe thead th {\n",
       "        text-align: right;\n",
       "    }\n",
       "</style>\n",
       "<table border=\"1\" class=\"dataframe\">\n",
       "  <thead>\n",
       "    <tr style=\"text-align: right;\">\n",
       "      <th></th>\n",
       "      <th>C1</th>\n",
       "      <th>C2</th>\n",
       "      <th>C3</th>\n",
       "      <th>C4</th>\n",
       "    </tr>\n",
       "  </thead>\n",
       "  <tbody>\n",
       "    <tr>\n",
       "      <th>0</th>\n",
       "      <td>A</td>\n",
       "      <td>0.01</td>\n",
       "      <td>0.49</td>\n",
       "      <td>0.83</td>\n",
       "    </tr>\n",
       "    <tr>\n",
       "      <th>1</th>\n",
       "      <td>B</td>\n",
       "      <td>0.5</td>\n",
       "      <td>0.9</td>\n",
       "      <td>0.83</td>\n",
       "    </tr>\n",
       "    <tr>\n",
       "      <th>2</th>\n",
       "      <td>C</td>\n",
       "      <td>0.11</td>\n",
       "      <td>0.65</td>\n",
       "      <td>0.83</td>\n",
       "    </tr>\n",
       "    <tr>\n",
       "      <th>3</th>\n",
       "      <td>D</td>\n",
       "      <td>0.05</td>\n",
       "      <td>0.9</td>\n",
       "      <td>0.96</td>\n",
       "    </tr>\n",
       "    <tr>\n",
       "      <th>4</th>\n",
       "      <td>E</td>\n",
       "      <td>0.69</td>\n",
       "      <td>0.72</td>\n",
       "      <td>0.37</td>\n",
       "    </tr>\n",
       "  </tbody>\n",
       "</table>\n",
       "</div>"
      ],
      "text/plain": [
       "  C1    C2    C3    C4\n",
       "0  A  0.01  0.49  0.83\n",
       "1  B   0.5   0.9  0.83\n",
       "2  C  0.11  0.65  0.83\n",
       "3  D  0.05   0.9  0.96\n",
       "4  E  0.69  0.72  0.37"
      ]
     },
     "execution_count": 24,
     "metadata": {},
     "output_type": "execute_result"
    }
   ],
   "source": [
    "df = pd.DataFrame(data.T, columns='C1 C2 C3 C4'.split())\n",
    "df"
   ]
  },
  {
   "cell_type": "code",
   "execution_count": 25,
   "metadata": {},
   "outputs": [
    {
     "data": {
      "text/html": [
       "<div>\n",
       "<style scoped>\n",
       "    .dataframe tbody tr th:only-of-type {\n",
       "        vertical-align: middle;\n",
       "    }\n",
       "\n",
       "    .dataframe tbody tr th {\n",
       "        vertical-align: top;\n",
       "    }\n",
       "\n",
       "    .dataframe thead th {\n",
       "        text-align: right;\n",
       "    }\n",
       "</style>\n",
       "<table border=\"1\" class=\"dataframe\">\n",
       "  <thead>\n",
       "    <tr style=\"text-align: right;\">\n",
       "      <th></th>\n",
       "      <th>C2</th>\n",
       "      <th>C3</th>\n",
       "      <th>C4</th>\n",
       "    </tr>\n",
       "    <tr>\n",
       "      <th>C1</th>\n",
       "      <th></th>\n",
       "      <th></th>\n",
       "      <th></th>\n",
       "    </tr>\n",
       "  </thead>\n",
       "  <tbody>\n",
       "    <tr>\n",
       "      <th>A</th>\n",
       "      <td>0.01</td>\n",
       "      <td>0.49</td>\n",
       "      <td>0.83</td>\n",
       "    </tr>\n",
       "    <tr>\n",
       "      <th>B</th>\n",
       "      <td>0.5</td>\n",
       "      <td>0.9</td>\n",
       "      <td>0.83</td>\n",
       "    </tr>\n",
       "    <tr>\n",
       "      <th>C</th>\n",
       "      <td>0.11</td>\n",
       "      <td>0.65</td>\n",
       "      <td>0.83</td>\n",
       "    </tr>\n",
       "    <tr>\n",
       "      <th>D</th>\n",
       "      <td>0.05</td>\n",
       "      <td>0.9</td>\n",
       "      <td>0.96</td>\n",
       "    </tr>\n",
       "    <tr>\n",
       "      <th>E</th>\n",
       "      <td>0.69</td>\n",
       "      <td>0.72</td>\n",
       "      <td>0.37</td>\n",
       "    </tr>\n",
       "  </tbody>\n",
       "</table>\n",
       "</div>"
      ],
      "text/plain": [
       "      C2    C3    C4\n",
       "C1                  \n",
       "A   0.01  0.49  0.83\n",
       "B    0.5   0.9  0.83\n",
       "C   0.11  0.65  0.83\n",
       "D   0.05   0.9  0.96\n",
       "E   0.69  0.72  0.37"
      ]
     },
     "execution_count": 25,
     "metadata": {},
     "output_type": "execute_result"
    }
   ],
   "source": [
    "df2 = df.set_index('C1')\n",
    "df2"
   ]
  },
  {
   "cell_type": "code",
   "execution_count": 26,
   "metadata": {},
   "outputs": [
    {
     "data": {
      "text/html": [
       "<div>\n",
       "<style scoped>\n",
       "    .dataframe tbody tr th:only-of-type {\n",
       "        vertical-align: middle;\n",
       "    }\n",
       "\n",
       "    .dataframe tbody tr th {\n",
       "        vertical-align: top;\n",
       "    }\n",
       "\n",
       "    .dataframe thead th {\n",
       "        text-align: right;\n",
       "    }\n",
       "</style>\n",
       "<table border=\"1\" class=\"dataframe\">\n",
       "  <thead>\n",
       "    <tr style=\"text-align: right;\">\n",
       "      <th></th>\n",
       "      <th>C2</th>\n",
       "      <th>C3</th>\n",
       "      <th>C4</th>\n",
       "    </tr>\n",
       "    <tr>\n",
       "      <th>C1</th>\n",
       "      <th></th>\n",
       "      <th></th>\n",
       "      <th></th>\n",
       "    </tr>\n",
       "  </thead>\n",
       "  <tbody>\n",
       "    <tr>\n",
       "      <th>A</th>\n",
       "      <td>0.01</td>\n",
       "      <td>0.49</td>\n",
       "      <td>0.83</td>\n",
       "    </tr>\n",
       "    <tr>\n",
       "      <th>B</th>\n",
       "      <td>0.5</td>\n",
       "      <td>0.9</td>\n",
       "      <td>0.83</td>\n",
       "    </tr>\n",
       "    <tr>\n",
       "      <th>C</th>\n",
       "      <td>0.11</td>\n",
       "      <td>0.65</td>\n",
       "      <td>0.83</td>\n",
       "    </tr>\n",
       "    <tr>\n",
       "      <th>D</th>\n",
       "      <td>0.05</td>\n",
       "      <td>0.9</td>\n",
       "      <td>0.96</td>\n",
       "    </tr>\n",
       "    <tr>\n",
       "      <th>E</th>\n",
       "      <td>0.69</td>\n",
       "      <td>0.72</td>\n",
       "      <td>0.37</td>\n",
       "    </tr>\n",
       "  </tbody>\n",
       "</table>\n",
       "</div>"
      ],
      "text/plain": [
       "      C2    C3    C4\n",
       "C1                  \n",
       "A   0.01  0.49  0.83\n",
       "B    0.5   0.9  0.83\n",
       "C   0.11  0.65  0.83\n",
       "D   0.05   0.9  0.96\n",
       "E   0.69  0.72  0.37"
      ]
     },
     "execution_count": 26,
     "metadata": {},
     "output_type": "execute_result"
    }
   ],
   "source": [
    "df.set_index('C1', inplace=True)\n",
    "df"
   ]
  },
  {
   "cell_type": "code",
   "execution_count": 27,
   "metadata": {},
   "outputs": [
    {
     "data": {
      "text/html": [
       "<div>\n",
       "<style scoped>\n",
       "    .dataframe tbody tr th:only-of-type {\n",
       "        vertical-align: middle;\n",
       "    }\n",
       "\n",
       "    .dataframe tbody tr th {\n",
       "        vertical-align: top;\n",
       "    }\n",
       "\n",
       "    .dataframe thead th {\n",
       "        text-align: right;\n",
       "    }\n",
       "</style>\n",
       "<table border=\"1\" class=\"dataframe\">\n",
       "  <thead>\n",
       "    <tr style=\"text-align: right;\">\n",
       "      <th></th>\n",
       "      <th>C2</th>\n",
       "      <th>C3</th>\n",
       "      <th>C4</th>\n",
       "    </tr>\n",
       "    <tr>\n",
       "      <th>Index</th>\n",
       "      <th></th>\n",
       "      <th></th>\n",
       "      <th></th>\n",
       "    </tr>\n",
       "  </thead>\n",
       "  <tbody>\n",
       "    <tr>\n",
       "      <th>A</th>\n",
       "      <td>0.01</td>\n",
       "      <td>0.49</td>\n",
       "      <td>0.83</td>\n",
       "    </tr>\n",
       "    <tr>\n",
       "      <th>B</th>\n",
       "      <td>0.5</td>\n",
       "      <td>0.9</td>\n",
       "      <td>0.83</td>\n",
       "    </tr>\n",
       "    <tr>\n",
       "      <th>C</th>\n",
       "      <td>0.11</td>\n",
       "      <td>0.65</td>\n",
       "      <td>0.83</td>\n",
       "    </tr>\n",
       "    <tr>\n",
       "      <th>D</th>\n",
       "      <td>0.05</td>\n",
       "      <td>0.9</td>\n",
       "      <td>0.96</td>\n",
       "    </tr>\n",
       "    <tr>\n",
       "      <th>E</th>\n",
       "      <td>0.69</td>\n",
       "      <td>0.72</td>\n",
       "      <td>0.37</td>\n",
       "    </tr>\n",
       "  </tbody>\n",
       "</table>\n",
       "</div>"
      ],
      "text/plain": [
       "         C2    C3    C4\n",
       "Index                  \n",
       "A      0.01  0.49  0.83\n",
       "B       0.5   0.9  0.83\n",
       "C      0.11  0.65  0.83\n",
       "D      0.05   0.9  0.96\n",
       "E      0.69  0.72  0.37"
      ]
     },
     "execution_count": 27,
     "metadata": {},
     "output_type": "execute_result"
    }
   ],
   "source": [
    "df.index.name = 'Index'\n",
    "df"
   ]
  },
  {
   "cell_type": "code",
   "execution_count": 28,
   "metadata": {},
   "outputs": [
    {
     "data": {
      "text/html": [
       "<div>\n",
       "<style scoped>\n",
       "    .dataframe tbody tr th:only-of-type {\n",
       "        vertical-align: middle;\n",
       "    }\n",
       "\n",
       "    .dataframe tbody tr th {\n",
       "        vertical-align: top;\n",
       "    }\n",
       "\n",
       "    .dataframe thead th {\n",
       "        text-align: right;\n",
       "    }\n",
       "</style>\n",
       "<table border=\"1\" class=\"dataframe\">\n",
       "  <thead>\n",
       "    <tr style=\"text-align: right;\">\n",
       "      <th></th>\n",
       "      <th>Index</th>\n",
       "      <th>C2</th>\n",
       "      <th>C3</th>\n",
       "      <th>C4</th>\n",
       "    </tr>\n",
       "  </thead>\n",
       "  <tbody>\n",
       "    <tr>\n",
       "      <th>0</th>\n",
       "      <td>A</td>\n",
       "      <td>0.01</td>\n",
       "      <td>0.49</td>\n",
       "      <td>0.83</td>\n",
       "    </tr>\n",
       "    <tr>\n",
       "      <th>1</th>\n",
       "      <td>B</td>\n",
       "      <td>0.5</td>\n",
       "      <td>0.9</td>\n",
       "      <td>0.83</td>\n",
       "    </tr>\n",
       "    <tr>\n",
       "      <th>2</th>\n",
       "      <td>C</td>\n",
       "      <td>0.11</td>\n",
       "      <td>0.65</td>\n",
       "      <td>0.83</td>\n",
       "    </tr>\n",
       "    <tr>\n",
       "      <th>3</th>\n",
       "      <td>D</td>\n",
       "      <td>0.05</td>\n",
       "      <td>0.9</td>\n",
       "      <td>0.96</td>\n",
       "    </tr>\n",
       "    <tr>\n",
       "      <th>4</th>\n",
       "      <td>E</td>\n",
       "      <td>0.69</td>\n",
       "      <td>0.72</td>\n",
       "      <td>0.37</td>\n",
       "    </tr>\n",
       "  </tbody>\n",
       "</table>\n",
       "</div>"
      ],
      "text/plain": [
       "  Index    C2    C3    C4\n",
       "0     A  0.01  0.49  0.83\n",
       "1     B   0.5   0.9  0.83\n",
       "2     C  0.11  0.65  0.83\n",
       "3     D  0.05   0.9  0.96\n",
       "4     E  0.69  0.72  0.37"
      ]
     },
     "execution_count": 28,
     "metadata": {},
     "output_type": "execute_result"
    }
   ],
   "source": [
    "df.reset_index(inplace=True)\n",
    "df"
   ]
  },
  {
   "cell_type": "markdown",
   "metadata": {},
   "source": [
    "- cctv 사례"
   ]
  },
  {
   "cell_type": "code",
   "execution_count": 29,
   "metadata": {},
   "outputs": [
    {
     "data": {
      "text/html": [
       "<div>\n",
       "<style scoped>\n",
       "    .dataframe tbody tr th:only-of-type {\n",
       "        vertical-align: middle;\n",
       "    }\n",
       "\n",
       "    .dataframe tbody tr th {\n",
       "        vertical-align: top;\n",
       "    }\n",
       "\n",
       "    .dataframe thead th {\n",
       "        text-align: right;\n",
       "    }\n",
       "</style>\n",
       "<table border=\"1\" class=\"dataframe\">\n",
       "  <thead>\n",
       "    <tr style=\"text-align: right;\">\n",
       "      <th></th>\n",
       "      <th>구분</th>\n",
       "      <th>총계</th>\n",
       "      <th>2012년 이전</th>\n",
       "      <th>2012년</th>\n",
       "      <th>2013년</th>\n",
       "      <th>2014년</th>\n",
       "      <th>2015년</th>\n",
       "      <th>2016년</th>\n",
       "      <th>2017년</th>\n",
       "      <th>2018년</th>\n",
       "      <th>2019년</th>\n",
       "      <th>2020년</th>\n",
       "      <th>2021년</th>\n",
       "    </tr>\n",
       "  </thead>\n",
       "  <tbody>\n",
       "    <tr>\n",
       "      <th>0</th>\n",
       "      <td>계</td>\n",
       "      <td>83,557</td>\n",
       "      <td>4,812</td>\n",
       "      <td>1,851</td>\n",
       "      <td>3,434</td>\n",
       "      <td>4,295</td>\n",
       "      <td>6,840</td>\n",
       "      <td>8,708</td>\n",
       "      <td>11,572</td>\n",
       "      <td>10,627</td>\n",
       "      <td>12,267</td>\n",
       "      <td>11,247</td>\n",
       "      <td>7,904</td>\n",
       "    </tr>\n",
       "    <tr>\n",
       "      <th>1</th>\n",
       "      <td>종로구</td>\n",
       "      <td>1,715</td>\n",
       "      <td>815</td>\n",
       "      <td>NaN</td>\n",
       "      <td>NaN</td>\n",
       "      <td>195</td>\n",
       "      <td>150</td>\n",
       "      <td>0</td>\n",
       "      <td>261</td>\n",
       "      <td>85</td>\n",
       "      <td>9</td>\n",
       "      <td>200</td>\n",
       "      <td>0</td>\n",
       "    </tr>\n",
       "    <tr>\n",
       "      <th>2</th>\n",
       "      <td>중 구</td>\n",
       "      <td>2,447</td>\n",
       "      <td>16</td>\n",
       "      <td>114</td>\n",
       "      <td>87</td>\n",
       "      <td>77</td>\n",
       "      <td>236</td>\n",
       "      <td>240</td>\n",
       "      <td>372</td>\n",
       "      <td>386</td>\n",
       "      <td>155</td>\n",
       "      <td>361</td>\n",
       "      <td>403</td>\n",
       "    </tr>\n",
       "    <tr>\n",
       "      <th>3</th>\n",
       "      <td>용산구</td>\n",
       "      <td>2,611</td>\n",
       "      <td>34</td>\n",
       "      <td>71</td>\n",
       "      <td>234</td>\n",
       "      <td>125</td>\n",
       "      <td>221</td>\n",
       "      <td>298</td>\n",
       "      <td>351</td>\n",
       "      <td>125</td>\n",
       "      <td>307</td>\n",
       "      <td>617</td>\n",
       "      <td>228</td>\n",
       "    </tr>\n",
       "    <tr>\n",
       "      <th>4</th>\n",
       "      <td>성동구</td>\n",
       "      <td>3,829</td>\n",
       "      <td>163</td>\n",
       "      <td>144</td>\n",
       "      <td>208</td>\n",
       "      <td>107</td>\n",
       "      <td>325</td>\n",
       "      <td>255</td>\n",
       "      <td>967</td>\n",
       "      <td>415</td>\n",
       "      <td>490</td>\n",
       "      <td>472</td>\n",
       "      <td>283</td>\n",
       "    </tr>\n",
       "  </tbody>\n",
       "</table>\n",
       "</div>"
      ],
      "text/plain": [
       "    구분      총계 2012년 이전  2012년  2013년  2014년  2015년  2016년   2017년   2018년  \\\n",
       "0    계  83,557    4,812  1,851  3,434  4,295  6,840  8,708  11,572  10,627   \n",
       "1  종로구   1,715      815    NaN    NaN    195    150      0     261      85   \n",
       "2  중 구   2,447       16    114     87     77    236    240     372     386   \n",
       "3  용산구   2,611       34     71    234    125    221    298     351     125   \n",
       "4  성동구   3,829      163    144    208    107    325    255     967     415   \n",
       "\n",
       "    2019년   2020년  2021년  \n",
       "0  12,267  11,247  7,904  \n",
       "1       9     200      0  \n",
       "2     155     361    403  \n",
       "3     307     617    228  \n",
       "4     490     472    283  "
      ]
     },
     "execution_count": 29,
     "metadata": {},
     "output_type": "execute_result"
    }
   ],
   "source": [
    "filename = '서울시CCTV설치운영현황(자치구)_년도별_211231기준.csv'\n",
    "cctv = pd.read_csv(filename, skiprows=1, encoding='EUC-KR')\n",
    "cctv.head()"
   ]
  },
  {
   "cell_type": "code",
   "execution_count": 30,
   "metadata": {},
   "outputs": [
    {
     "data": {
      "text/html": [
       "<div>\n",
       "<style scoped>\n",
       "    .dataframe tbody tr th:only-of-type {\n",
       "        vertical-align: middle;\n",
       "    }\n",
       "\n",
       "    .dataframe tbody tr th {\n",
       "        vertical-align: top;\n",
       "    }\n",
       "\n",
       "    .dataframe thead th {\n",
       "        text-align: right;\n",
       "    }\n",
       "</style>\n",
       "<table border=\"1\" class=\"dataframe\">\n",
       "  <thead>\n",
       "    <tr style=\"text-align: right;\">\n",
       "      <th></th>\n",
       "      <th>총계</th>\n",
       "      <th>2012년 이전</th>\n",
       "      <th>2012년</th>\n",
       "      <th>2013년</th>\n",
       "      <th>2014년</th>\n",
       "      <th>2015년</th>\n",
       "      <th>2016년</th>\n",
       "      <th>2017년</th>\n",
       "      <th>2018년</th>\n",
       "      <th>2019년</th>\n",
       "      <th>2020년</th>\n",
       "      <th>2021년</th>\n",
       "    </tr>\n",
       "    <tr>\n",
       "      <th>자치구</th>\n",
       "      <th></th>\n",
       "      <th></th>\n",
       "      <th></th>\n",
       "      <th></th>\n",
       "      <th></th>\n",
       "      <th></th>\n",
       "      <th></th>\n",
       "      <th></th>\n",
       "      <th></th>\n",
       "      <th></th>\n",
       "      <th></th>\n",
       "      <th></th>\n",
       "    </tr>\n",
       "  </thead>\n",
       "  <tbody>\n",
       "    <tr>\n",
       "      <th>종로구</th>\n",
       "      <td>1,715</td>\n",
       "      <td>815</td>\n",
       "      <td>NaN</td>\n",
       "      <td>NaN</td>\n",
       "      <td>195</td>\n",
       "      <td>150</td>\n",
       "      <td>0</td>\n",
       "      <td>261</td>\n",
       "      <td>85</td>\n",
       "      <td>9</td>\n",
       "      <td>200</td>\n",
       "      <td>0</td>\n",
       "    </tr>\n",
       "    <tr>\n",
       "      <th>중 구</th>\n",
       "      <td>2,447</td>\n",
       "      <td>16</td>\n",
       "      <td>114</td>\n",
       "      <td>87</td>\n",
       "      <td>77</td>\n",
       "      <td>236</td>\n",
       "      <td>240</td>\n",
       "      <td>372</td>\n",
       "      <td>386</td>\n",
       "      <td>155</td>\n",
       "      <td>361</td>\n",
       "      <td>403</td>\n",
       "    </tr>\n",
       "    <tr>\n",
       "      <th>용산구</th>\n",
       "      <td>2,611</td>\n",
       "      <td>34</td>\n",
       "      <td>71</td>\n",
       "      <td>234</td>\n",
       "      <td>125</td>\n",
       "      <td>221</td>\n",
       "      <td>298</td>\n",
       "      <td>351</td>\n",
       "      <td>125</td>\n",
       "      <td>307</td>\n",
       "      <td>617</td>\n",
       "      <td>228</td>\n",
       "    </tr>\n",
       "    <tr>\n",
       "      <th>성동구</th>\n",
       "      <td>3,829</td>\n",
       "      <td>163</td>\n",
       "      <td>144</td>\n",
       "      <td>208</td>\n",
       "      <td>107</td>\n",
       "      <td>325</td>\n",
       "      <td>255</td>\n",
       "      <td>967</td>\n",
       "      <td>415</td>\n",
       "      <td>490</td>\n",
       "      <td>472</td>\n",
       "      <td>283</td>\n",
       "    </tr>\n",
       "    <tr>\n",
       "      <th>광진구</th>\n",
       "      <td>3,211</td>\n",
       "      <td>35</td>\n",
       "      <td>57</td>\n",
       "      <td>100</td>\n",
       "      <td>187</td>\n",
       "      <td>98</td>\n",
       "      <td>52</td>\n",
       "      <td>675</td>\n",
       "      <td>465</td>\n",
       "      <td>712</td>\n",
       "      <td>175</td>\n",
       "      <td>655</td>\n",
       "    </tr>\n",
       "  </tbody>\n",
       "</table>\n",
       "</div>"
      ],
      "text/plain": [
       "        총계 2012년 이전 2012년 2013년 2014년 2015년 2016년 2017년 2018년 2019년 2020년  \\\n",
       "자치구                                                                         \n",
       "종로구  1,715      815   NaN   NaN   195   150     0   261    85     9   200   \n",
       "중 구  2,447       16   114    87    77   236   240   372   386   155   361   \n",
       "용산구  2,611       34    71   234   125   221   298   351   125   307   617   \n",
       "성동구  3,829      163   144   208   107   325   255   967   415   490   472   \n",
       "광진구  3,211       35    57   100   187    98    52   675   465   712   175   \n",
       "\n",
       "    2021년  \n",
       "자치구        \n",
       "종로구     0  \n",
       "중 구   403  \n",
       "용산구   228  \n",
       "성동구   283  \n",
       "광진구   655  "
      ]
     },
     "execution_count": 30,
     "metadata": {},
     "output_type": "execute_result"
    }
   ],
   "source": [
    "# 계 행을 삭제\n",
    "# 구분 열을 인덱스로 변경하고 이름도 자치구로 변경\n",
    "cctv.drop([0], inplace=True)\n",
    "cctv.set_index('구분', inplace=True)\n",
    "cctv.index.name='자치구'\n",
    "cctv.head()"
   ]
  },
  {
   "cell_type": "code",
   "execution_count": 33,
   "metadata": {},
   "outputs": [
    {
     "data": {
      "text/plain": [
       "'중구'"
      ]
     },
     "execution_count": 33,
     "metadata": {},
     "output_type": "execute_result"
    }
   ],
   "source": [
    "# '중 구'를 '중구'로 바꾸기\n",
    "cctv.index = cctv.index.str.replace(' ','')\n",
    "cctv.index[1]"
   ]
  },
  {
   "cell_type": "code",
   "execution_count": null,
   "metadata": {},
   "outputs": [],
   "source": []
  }
 ],
 "metadata": {
  "interpreter": {
   "hash": "0e57b3e1c71b752f2155407481283ac520614bed1fdf3f32bca2723a92a6c7b4"
  },
  "kernelspec": {
   "display_name": "Python 3.9.7 ('base')",
   "language": "python",
   "name": "python3"
  },
  "language_info": {
   "codemirror_mode": {
    "name": "ipython",
    "version": 3
   },
   "file_extension": ".py",
   "mimetype": "text/x-python",
   "name": "python",
   "nbconvert_exporter": "python",
   "pygments_lexer": "ipython3",
   "version": "3.9.7"
  },
  "orig_nbformat": 4
 },
 "nbformat": 4,
 "nbformat_minor": 2
}
