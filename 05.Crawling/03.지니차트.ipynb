{
 "cells": [
  {
   "cell_type": "markdown",
   "metadata": {},
   "source": [
    "# 지니 Top200 차트"
   ]
  },
  {
   "cell_type": "code",
   "execution_count": 2,
   "metadata": {},
   "outputs": [],
   "source": [
    "import requests\n",
    "import pandas as pd\n",
    "from bs4 import BeautifulSoup"
   ]
  },
  {
   "cell_type": "markdown",
   "metadata": {},
   "source": [
    "### 1. 인터넷에서 데이터 가져오기"
   ]
  },
  {
   "cell_type": "code",
   "execution_count": 3,
   "metadata": {},
   "outputs": [
    {
     "data": {
      "text/plain": [
       "'<br>\\r\\n<br>\\r\\n<center>\\r\\n<img src=\"http://www.geniemusic.co.kr/images/common/logo_r1.png\"><br>\\r\\n<h2> <meta http-equiv=\"Content-Type\" content=\"text/html;charset=UTF-8\"> ì\\xa0\\x91ì\\x86\\x8dì\\x9a\\x94ì²\\xadì\\x9d´ ë³´ì\\x95\\x88ì\\xa0\\x95ì±\\x85ì\\x97\\x90 ì\\x9d\\x98í\\x95´ ì°¨ë\\x8b¨ë\\x90\\x98ì\\x97\\x88ì\\x8aµë\\x8b\\x88ë\\x8b¤. ë\\x8b¹ì\\x82¬ ê³\\xa0ê°\\x9dì\\x84¼í\\x84°ë¡\\x9c ë¬¸ì\\x9d\\x98í\\x95´ì£¼ì\\x8b\\xadì\\x8b\\x9cì\\x98¤.<br><br>\\r\\nThe security policy of the connection request is blocked. Contact your customer service representative.<br><br>\\r\\nì§\\x80ë\\x8b\\x88ë®¤ì§\\x81 ê³\\xa0ê°\\x9dì\\x84¼í\\x84° 1577-5337<br><br>\\r\\n</h2>\\r\\n</center>\\r\\n<br>'"
      ]
     },
     "execution_count": 3,
     "metadata": {},
     "output_type": "execute_result"
    }
   ],
   "source": [
    "url = 'https://www.genie.co.kr/chart/top200'\n",
    "req = requests.get(url)\n",
    "req.text"
   ]
  },
  {
   "cell_type": "code",
   "execution_count": 4,
   "metadata": {},
   "outputs": [],
   "source": [
    "# Chrome User-Agent\n",
    "header = {'User-Agent': 'Mozilla/5.0 (Windows NT 10.0; Win64; x64) AppleWebKit/537.36 (KHTML, like Gecko) Chrome/100.0.4896.75 Safari/537.36'}\n",
    "req = requests.get(url, headers=header)\n",
    "soup = BeautifulSoup(req.text)"
   ]
  },
  {
   "cell_type": "code",
   "execution_count": 5,
   "metadata": {},
   "outputs": [
    {
     "data": {
      "text/plain": [
       "50"
      ]
     },
     "execution_count": 5,
     "metadata": {},
     "output_type": "execute_result"
    }
   ],
   "source": [
    "lis = soup.select('.list-wrap > tbody > tr')\n",
    "len(lis)"
   ]
  },
  {
   "cell_type": "markdown",
   "metadata": {},
   "source": [
    "- 순위, 제목, 가수, 앨범명"
   ]
  },
  {
   "cell_type": "code",
   "execution_count": 23,
   "metadata": {},
   "outputs": [],
   "source": [
    "li=lis[12]"
   ]
  },
  {
   "cell_type": "code",
   "execution_count": 24,
   "metadata": {},
   "outputs": [
    {
     "data": {
      "text/plain": [
       "13"
      ]
     },
     "execution_count": 24,
     "metadata": {},
     "output_type": "execute_result"
    }
   ],
   "source": [
    "# 순위\n",
    "try:\n",
    "    number = int(li.select_one('.number').get_text().split('\\n')[0])\n",
    "except:\n",
    "    number = 0\n",
    "number"
   ]
  },
  {
   "cell_type": "code",
   "execution_count": 27,
   "metadata": {},
   "outputs": [
    {
     "data": {
      "text/plain": [
       "'                                                abcdefu'"
      ]
     },
     "execution_count": 27,
     "metadata": {},
     "output_type": "execute_result"
    }
   ],
   "source": [
    "# 제목\n",
    "title = li.select_one('.info > a.title.ellipsis').get_text().split('\\n')[-1]\n",
    "title"
   ]
  },
  {
   "cell_type": "code",
   "execution_count": 22,
   "metadata": {},
   "outputs": [
    {
     "data": {
      "text/plain": [
       "'임영웅'"
      ]
     },
     "execution_count": 22,
     "metadata": {},
     "output_type": "execute_result"
    }
   ],
   "source": [
    "# 가수\n",
    "artist = li.select_one('.info > a.artist.ellipsis').text.strip()\n",
    "artist"
   ]
  },
  {
   "cell_type": "code",
   "execution_count": 19,
   "metadata": {},
   "outputs": [
    {
     "data": {
      "text/plain": [
       "'뽕숭아학당 PART23'"
      ]
     },
     "execution_count": 19,
     "metadata": {},
     "output_type": "execute_result"
    }
   ],
   "source": [
    "# 앨범명\n",
    "album = li.select_one('.info > a.albumtitle.ellipsis').text.strip()\n",
    "album"
   ]
  },
  {
   "cell_type": "code",
   "execution_count": 28,
   "metadata": {},
   "outputs": [],
   "source": [
    "line = []\n",
    "for li in lis:\n",
    "    try:\n",
    "        number = li.select_one('.number').get_text().split('\\n')[0]\n",
    "    except:\n",
    "        number = 0\n",
    "    title = li.select_one('.info > a.title.ellipsis').get_text().split('\\n')[-1]\n",
    "    artist = li.select_one('.info > a.artist.ellipsis').get_text()\n",
    "    album = li.select_one('.info > a.albumtitle.ellipsis').get_text()\n",
    "    line.append({'순위': number, '제목': title, '가수': artist, '앨범명': album})"
   ]
  },
  {
   "cell_type": "code",
   "execution_count": 29,
   "metadata": {},
   "outputs": [
    {
     "data": {
      "text/html": [
       "<div>\n",
       "<style scoped>\n",
       "    .dataframe tbody tr th:only-of-type {\n",
       "        vertical-align: middle;\n",
       "    }\n",
       "\n",
       "    .dataframe tbody tr th {\n",
       "        vertical-align: top;\n",
       "    }\n",
       "\n",
       "    .dataframe thead th {\n",
       "        text-align: right;\n",
       "    }\n",
       "</style>\n",
       "<table border=\"1\" class=\"dataframe\">\n",
       "  <thead>\n",
       "    <tr style=\"text-align: right;\">\n",
       "      <th></th>\n",
       "      <th>순위</th>\n",
       "      <th>제목</th>\n",
       "      <th>가수</th>\n",
       "      <th>앨범명</th>\n",
       "    </tr>\n",
       "  </thead>\n",
       "  <tbody>\n",
       "    <tr>\n",
       "      <th>0</th>\n",
       "      <td>1</td>\n",
       "      <td>...</td>\n",
       "      <td>BIGBANG (빅뱅)</td>\n",
       "      <td>봄여름가을겨울 (Still Life)</td>\n",
       "    </tr>\n",
       "    <tr>\n",
       "      <th>1</th>\n",
       "      <td>2</td>\n",
       "      <td>...</td>\n",
       "      <td>IVE (아이브)</td>\n",
       "      <td>LOVE DIVE</td>\n",
       "    </tr>\n",
       "    <tr>\n",
       "      <th>2</th>\n",
       "      <td>3</td>\n",
       "      <td>...</td>\n",
       "      <td>(여자)아이들</td>\n",
       "      <td>I NEVER DIE</td>\n",
       "    </tr>\n",
       "  </tbody>\n",
       "</table>\n",
       "</div>"
      ],
      "text/plain": [
       "  순위                                                 제목            가수  \\\n",
       "0  1                                                ...  BIGBANG (빅뱅)   \n",
       "1  2                                                ...     IVE (아이브)   \n",
       "2  3                                                ...       (여자)아이들   \n",
       "\n",
       "                    앨범명  \n",
       "0  봄여름가을겨울 (Still Life)  \n",
       "1             LOVE DIVE  \n",
       "2           I NEVER DIE  "
      ]
     },
     "execution_count": 29,
     "metadata": {},
     "output_type": "execute_result"
    }
   ],
   "source": [
    "df = pd.DataFrame(line)\n",
    "df.head(3)"
   ]
  },
  {
   "cell_type": "code",
   "execution_count": 30,
   "metadata": {},
   "outputs": [
    {
     "data": {
      "text/html": [
       "<div>\n",
       "<style scoped>\n",
       "    .dataframe tbody tr th:only-of-type {\n",
       "        vertical-align: middle;\n",
       "    }\n",
       "\n",
       "    .dataframe tbody tr th {\n",
       "        vertical-align: top;\n",
       "    }\n",
       "\n",
       "    .dataframe thead th {\n",
       "        text-align: right;\n",
       "    }\n",
       "</style>\n",
       "<table border=\"1\" class=\"dataframe\">\n",
       "  <thead>\n",
       "    <tr style=\"text-align: right;\">\n",
       "      <th></th>\n",
       "      <th>순위</th>\n",
       "      <th>제목</th>\n",
       "      <th>가수</th>\n",
       "      <th>앨범명</th>\n",
       "    </tr>\n",
       "  </thead>\n",
       "  <tbody>\n",
       "    <tr>\n",
       "      <th>0</th>\n",
       "      <td>1</td>\n",
       "      <td>봄여름가을겨울(StillLife)</td>\n",
       "      <td>BIGBANG (빅뱅)</td>\n",
       "      <td>봄여름가을겨울 (Still Life)</td>\n",
       "    </tr>\n",
       "    <tr>\n",
       "      <th>1</th>\n",
       "      <td>2</td>\n",
       "      <td>LOVEDIVE</td>\n",
       "      <td>IVE (아이브)</td>\n",
       "      <td>LOVE DIVE</td>\n",
       "    </tr>\n",
       "    <tr>\n",
       "      <th>2</th>\n",
       "      <td>3</td>\n",
       "      <td>TOMBOY</td>\n",
       "      <td>(여자)아이들</td>\n",
       "      <td>I NEVER DIE</td>\n",
       "    </tr>\n",
       "  </tbody>\n",
       "</table>\n",
       "</div>"
      ],
      "text/plain": [
       "  순위                  제목            가수                   앨범명\n",
       "0  1  봄여름가을겨울(StillLife)  BIGBANG (빅뱅)  봄여름가을겨울 (Still Life)\n",
       "1  2            LOVEDIVE     IVE (아이브)             LOVE DIVE\n",
       "2  3              TOMBOY       (여자)아이들           I NEVER DIE"
      ]
     },
     "execution_count": 30,
     "metadata": {},
     "output_type": "execute_result"
    }
   ],
   "source": [
    "df['제목'] = df['제목'].str.replace(' ','')\n",
    "df.head(3)"
   ]
  },
  {
   "cell_type": "code",
   "execution_count": 31,
   "metadata": {},
   "outputs": [
    {
     "data": {
      "text/html": [
       "<div>\n",
       "<style scoped>\n",
       "    .dataframe tbody tr th:only-of-type {\n",
       "        vertical-align: middle;\n",
       "    }\n",
       "\n",
       "    .dataframe tbody tr th {\n",
       "        vertical-align: top;\n",
       "    }\n",
       "\n",
       "    .dataframe thead th {\n",
       "        text-align: right;\n",
       "    }\n",
       "</style>\n",
       "<table border=\"1\" class=\"dataframe\">\n",
       "  <thead>\n",
       "    <tr style=\"text-align: right;\">\n",
       "      <th></th>\n",
       "      <th>제목</th>\n",
       "      <th>가수</th>\n",
       "      <th>앨범명</th>\n",
       "    </tr>\n",
       "    <tr>\n",
       "      <th>순위</th>\n",
       "      <th></th>\n",
       "      <th></th>\n",
       "      <th></th>\n",
       "    </tr>\n",
       "  </thead>\n",
       "  <tbody>\n",
       "    <tr>\n",
       "      <th>1</th>\n",
       "      <td>봄여름가을겨울(StillLife)</td>\n",
       "      <td>BIGBANG (빅뱅)</td>\n",
       "      <td>봄여름가을겨울 (Still Life)</td>\n",
       "    </tr>\n",
       "    <tr>\n",
       "      <th>2</th>\n",
       "      <td>LOVEDIVE</td>\n",
       "      <td>IVE (아이브)</td>\n",
       "      <td>LOVE DIVE</td>\n",
       "    </tr>\n",
       "    <tr>\n",
       "      <th>3</th>\n",
       "      <td>TOMBOY</td>\n",
       "      <td>(여자)아이들</td>\n",
       "      <td>I NEVER DIE</td>\n",
       "    </tr>\n",
       "  </tbody>\n",
       "</table>\n",
       "</div>"
      ],
      "text/plain": [
       "                    제목            가수                   앨범명\n",
       "순위                                                        \n",
       "1   봄여름가을겨울(StillLife)  BIGBANG (빅뱅)  봄여름가을겨울 (Still Life)\n",
       "2             LOVEDIVE     IVE (아이브)             LOVE DIVE\n",
       "3               TOMBOY       (여자)아이들           I NEVER DIE"
      ]
     },
     "execution_count": 31,
     "metadata": {},
     "output_type": "execute_result"
    }
   ],
   "source": [
    "df.set_index('순위', inplace=True)\n",
    "df.head(3)"
   ]
  },
  {
   "cell_type": "code",
   "execution_count": 15,
   "metadata": {},
   "outputs": [],
   "source": [
    "# 위에서 set_index 적용했으므로 index=False 생략\n",
    "df.to_csv('지니차트(20110414)Top50.csv')"
   ]
  },
  {
   "cell_type": "code",
   "execution_count": 16,
   "metadata": {},
   "outputs": [
    {
     "data": {
      "text/html": [
       "<div>\n",
       "<style scoped>\n",
       "    .dataframe tbody tr th:only-of-type {\n",
       "        vertical-align: middle;\n",
       "    }\n",
       "\n",
       "    .dataframe tbody tr th {\n",
       "        vertical-align: top;\n",
       "    }\n",
       "\n",
       "    .dataframe thead th {\n",
       "        text-align: right;\n",
       "    }\n",
       "</style>\n",
       "<table border=\"1\" class=\"dataframe\">\n",
       "  <thead>\n",
       "    <tr style=\"text-align: right;\">\n",
       "      <th></th>\n",
       "      <th>제목</th>\n",
       "      <th>가수</th>\n",
       "      <th>앨범명</th>\n",
       "    </tr>\n",
       "    <tr>\n",
       "      <th>순위</th>\n",
       "      <th></th>\n",
       "      <th></th>\n",
       "      <th></th>\n",
       "    </tr>\n",
       "  </thead>\n",
       "  <tbody>\n",
       "    <tr>\n",
       "      <th>1</th>\n",
       "      <td>봄여름가을겨울(StillLife)</td>\n",
       "      <td>BIGBANG (빅뱅)</td>\n",
       "      <td>봄여름가을겨울 (Still Life)</td>\n",
       "    </tr>\n",
       "    <tr>\n",
       "      <th>2</th>\n",
       "      <td>LOVEDIVE</td>\n",
       "      <td>IVE (아이브)</td>\n",
       "      <td>LOVE DIVE</td>\n",
       "    </tr>\n",
       "    <tr>\n",
       "      <th>3</th>\n",
       "      <td>TOMBOY</td>\n",
       "      <td>(여자)아이들</td>\n",
       "      <td>I NEVER DIE</td>\n",
       "    </tr>\n",
       "  </tbody>\n",
       "</table>\n",
       "</div>"
      ],
      "text/plain": [
       "                    제목            가수                   앨범명\n",
       "순위                                                        \n",
       "1   봄여름가을겨울(StillLife)  BIGBANG (빅뱅)  봄여름가을겨울 (Still Life)\n",
       "2             LOVEDIVE     IVE (아이브)             LOVE DIVE\n",
       "3               TOMBOY       (여자)아이들           I NEVER DIE"
      ]
     },
     "execution_count": 16,
     "metadata": {},
     "output_type": "execute_result"
    }
   ],
   "source": [
    "df2 = pd.read_csv('지니차트(20110414)Top50.csv', index_col='순위')\n",
    "df2.head(3)"
   ]
  },
  {
   "cell_type": "markdown",
   "metadata": {},
   "source": [
    "### 모든 페이지에 대해 가져오기"
   ]
  },
  {
   "cell_type": "code",
   "execution_count": 32,
   "metadata": {},
   "outputs": [],
   "source": [
    "line = []\n",
    "for page in range(1,5):\n",
    "    url = f'https://www.genie.co.kr/chart/top200?ditc=D&ymd=20220415&hh=10&rtm=Y&pg={page}'\n",
    "    req = requests.get(url, headers=header)\n",
    "    soup = BeautifulSoup(req.text, 'html.parser')\n",
    "    lis = soup.select('.list-wrap > tbody > tr')\n",
    "\n",
    "\n",
    "    for li in lis:\n",
    "        try:\n",
    "            number = li.select_one('.number').get_text().split('\\n')[0]\n",
    "        except:\n",
    "            number = 0\n",
    "        title = li.select_one('.info > a.title.ellipsis').get_text().split('\\n')[-1]\n",
    "        artist = li.select_one('.info > a.artist.ellipsis').get_text()\n",
    "        album = li.select_one('.info > a.albumtitle.ellipsis').get_text()\n",
    "        line.append({'순위': number, '제목': title, '가수': artist, '앨범명': album})"
   ]
  },
  {
   "cell_type": "code",
   "execution_count": 33,
   "metadata": {},
   "outputs": [
    {
     "data": {
      "text/html": [
       "<div>\n",
       "<style scoped>\n",
       "    .dataframe tbody tr th:only-of-type {\n",
       "        vertical-align: middle;\n",
       "    }\n",
       "\n",
       "    .dataframe tbody tr th {\n",
       "        vertical-align: top;\n",
       "    }\n",
       "\n",
       "    .dataframe thead th {\n",
       "        text-align: right;\n",
       "    }\n",
       "</style>\n",
       "<table border=\"1\" class=\"dataframe\">\n",
       "  <thead>\n",
       "    <tr style=\"text-align: right;\">\n",
       "      <th></th>\n",
       "      <th>순위</th>\n",
       "      <th>제목</th>\n",
       "      <th>가수</th>\n",
       "      <th>앨범명</th>\n",
       "    </tr>\n",
       "  </thead>\n",
       "  <tbody>\n",
       "    <tr>\n",
       "      <th>195</th>\n",
       "      <td>196</td>\n",
       "      <td>...</td>\n",
       "      <td>BIGBANG (빅뱅)</td>\n",
       "      <td>Stand Up (2008 빅뱅 3rd Mini Album)</td>\n",
       "    </tr>\n",
       "    <tr>\n",
       "      <th>196</th>\n",
       "      <td>197</td>\n",
       "      <td>...</td>\n",
       "      <td>BIGBANG (빅뱅)</td>\n",
       "      <td>REMEMBER</td>\n",
       "    </tr>\n",
       "    <tr>\n",
       "      <th>197</th>\n",
       "      <td>198</td>\n",
       "      <td>...</td>\n",
       "      <td>NCT DREAM</td>\n",
       "      <td>Glitch Mode - The 2nd Album</td>\n",
       "    </tr>\n",
       "    <tr>\n",
       "      <th>198</th>\n",
       "      <td>199</td>\n",
       "      <td>...</td>\n",
       "      <td>스트레이 (The Stray)</td>\n",
       "      <td>her</td>\n",
       "    </tr>\n",
       "    <tr>\n",
       "      <th>199</th>\n",
       "      <td>200</td>\n",
       "      <td>...</td>\n",
       "      <td>Sondia</td>\n",
       "      <td>나의 아저씨 OST Part. 2 (tvN 수목드라마)</td>\n",
       "    </tr>\n",
       "  </tbody>\n",
       "</table>\n",
       "</div>"
      ],
      "text/plain": [
       "      순위                                                 제목                가수  \\\n",
       "195  196                                                ...      BIGBANG (빅뱅)   \n",
       "196  197                                                ...      BIGBANG (빅뱅)   \n",
       "197  198                                                ...         NCT DREAM   \n",
       "198  199                                                ...  스트레이 (The Stray)   \n",
       "199  200                                                ...            Sondia   \n",
       "\n",
       "                                   앨범명  \n",
       "195  Stand Up (2008 빅뱅 3rd Mini Album)  \n",
       "196                           REMEMBER  \n",
       "197        Glitch Mode - The 2nd Album  \n",
       "198                                her  \n",
       "199     나의 아저씨 OST Part. 2 (tvN 수목드라마)  "
      ]
     },
     "execution_count": 33,
     "metadata": {},
     "output_type": "execute_result"
    }
   ],
   "source": [
    "df = pd.DataFrame(line)\n",
    "df.tail()"
   ]
  },
  {
   "cell_type": "code",
   "execution_count": 35,
   "metadata": {},
   "outputs": [
    {
     "data": {
      "text/html": [
       "<div>\n",
       "<style scoped>\n",
       "    .dataframe tbody tr th:only-of-type {\n",
       "        vertical-align: middle;\n",
       "    }\n",
       "\n",
       "    .dataframe tbody tr th {\n",
       "        vertical-align: top;\n",
       "    }\n",
       "\n",
       "    .dataframe thead th {\n",
       "        text-align: right;\n",
       "    }\n",
       "</style>\n",
       "<table border=\"1\" class=\"dataframe\">\n",
       "  <thead>\n",
       "    <tr style=\"text-align: right;\">\n",
       "      <th></th>\n",
       "      <th>순위</th>\n",
       "      <th>제목</th>\n",
       "      <th>가수</th>\n",
       "      <th>앨범명</th>\n",
       "    </tr>\n",
       "  </thead>\n",
       "  <tbody>\n",
       "    <tr>\n",
       "      <th>195</th>\n",
       "      <td>196</td>\n",
       "      <td>하루하루</td>\n",
       "      <td>BIGBANG (빅뱅)</td>\n",
       "      <td>Stand Up (2008 빅뱅 3rd Mini Album)</td>\n",
       "    </tr>\n",
       "    <tr>\n",
       "      <th>196</th>\n",
       "      <td>197</td>\n",
       "      <td>붉은노을</td>\n",
       "      <td>BIGBANG (빅뱅)</td>\n",
       "      <td>REMEMBER</td>\n",
       "    </tr>\n",
       "    <tr>\n",
       "      <th>197</th>\n",
       "      <td>198</td>\n",
       "      <td>SaturdayDrip</td>\n",
       "      <td>NCT DREAM</td>\n",
       "      <td>Glitch Mode - The 2nd Album</td>\n",
       "    </tr>\n",
       "    <tr>\n",
       "      <th>198</th>\n",
       "      <td>199</td>\n",
       "      <td>너,너</td>\n",
       "      <td>스트레이 (The Stray)</td>\n",
       "      <td>her</td>\n",
       "    </tr>\n",
       "    <tr>\n",
       "      <th>199</th>\n",
       "      <td>200</td>\n",
       "      <td>어른</td>\n",
       "      <td>Sondia</td>\n",
       "      <td>나의 아저씨 OST Part. 2 (tvN 수목드라마)</td>\n",
       "    </tr>\n",
       "  </tbody>\n",
       "</table>\n",
       "</div>"
      ],
      "text/plain": [
       "      순위            제목                가수                                앨범명\n",
       "195  196          하루하루      BIGBANG (빅뱅)  Stand Up (2008 빅뱅 3rd Mini Album)\n",
       "196  197          붉은노을      BIGBANG (빅뱅)                           REMEMBER\n",
       "197  198  SaturdayDrip         NCT DREAM        Glitch Mode - The 2nd Album\n",
       "198  199           너,너  스트레이 (The Stray)                                her\n",
       "199  200            어른            Sondia     나의 아저씨 OST Part. 2 (tvN 수목드라마)"
      ]
     },
     "execution_count": 35,
     "metadata": {},
     "output_type": "execute_result"
    }
   ],
   "source": [
    "df['제목'] = df['제목'].str.replace(' ','')\n",
    "df.tail()"
   ]
  },
  {
   "cell_type": "code",
   "execution_count": 36,
   "metadata": {},
   "outputs": [],
   "source": [
    "df.to_csv('지니차트Top200.csv', index=False)"
   ]
  }
 ],
 "metadata": {
  "interpreter": {
   "hash": "0e57b3e1c71b752f2155407481283ac520614bed1fdf3f32bca2723a92a6c7b4"
  },
  "kernelspec": {
   "display_name": "Python 3.9.7 ('base')",
   "language": "python",
   "name": "python3"
  },
  "language_info": {
   "codemirror_mode": {
    "name": "ipython",
    "version": 3
   },
   "file_extension": ".py",
   "mimetype": "text/x-python",
   "name": "python",
   "nbconvert_exporter": "python",
   "pygments_lexer": "ipython3",
   "version": "3.9.7"
  },
  "orig_nbformat": 4
 },
 "nbformat": 4,
 "nbformat_minor": 2
}
