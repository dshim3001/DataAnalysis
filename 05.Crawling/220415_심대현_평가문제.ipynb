{
 "cells": [
  {
   "cell_type": "markdown",
   "metadata": {},
   "source": [
    "# 평가문제 - 멜론차트 데이터 크롤링"
   ]
  },
  {
   "cell_type": "markdown",
   "metadata": {},
   "source": [
    "### [문항 1] 멜론차트 Top100에서 순위, 제목, 가수, 앨범명울 크롤링하여 데이터프레임을 만들고 멜론차트Top100.csv 파일을 만드세요. (50점)"
   ]
  },
  {
   "cell_type": "code",
   "execution_count": 2,
   "metadata": {},
   "outputs": [],
   "source": [
    "import requests, re\n",
    "import pandas as pd\n",
    "from bs4 import BeautifulSoup\n",
    "from tqdm.notebook import tqdm"
   ]
  },
  {
   "cell_type": "markdown",
   "metadata": {},
   "source": [
    "- 1.1. 데이터 가져오기 (10점)"
   ]
  },
  {
   "cell_type": "code",
   "execution_count": 3,
   "metadata": {},
   "outputs": [
    {
     "data": {
      "text/plain": [
       "''"
      ]
     },
     "execution_count": 3,
     "metadata": {},
     "output_type": "execute_result"
    }
   ],
   "source": [
    "url = 'https://www.melon.com/chart/index.htm'\n",
    "req = requests.get(url)\n",
    "req.text"
   ]
  },
  {
   "cell_type": "code",
   "execution_count": 4,
   "metadata": {},
   "outputs": [],
   "source": [
    "# Chrome User-Agent\n",
    "header = {'User-Agent': 'Mozilla/5.0 (Windows NT 10.0; Win64; x64) AppleWebKit/537.36 (KHTML, like Gecko) Chrome/100.0.4896.75 Safari/537.36'}\n",
    "req = requests.get(url, headers=header)\n",
    "# req.text\n",
    "soup = BeautifulSoup(req.text, 'html.parser')"
   ]
  },
  {
   "cell_type": "markdown",
   "metadata": {},
   "source": [
    "- 1-2. 원하는 데이터 찾기 (10점)"
   ]
  },
  {
   "cell_type": "code",
   "execution_count": 5,
   "metadata": {},
   "outputs": [
    {
     "data": {
      "text/plain": [
       "100"
      ]
     },
     "execution_count": 5,
     "metadata": {},
     "output_type": "execute_result"
    }
   ],
   "source": [
    "lis = soup.select('#frm > div > table > tbody > tr')\n",
    "len(lis)"
   ]
  },
  {
   "cell_type": "markdown",
   "metadata": {},
   "source": [
    "- 1-3. 하나를 선택해서 원하는 정보 추출하기 (10점) \n",
    "    - 순위, 제목, 가수, 앨범명"
   ]
  },
  {
   "cell_type": "code",
   "execution_count": 26,
   "metadata": {},
   "outputs": [],
   "source": [
    "li=lis[0]"
   ]
  },
  {
   "cell_type": "code",
   "execution_count": 27,
   "metadata": {},
   "outputs": [
    {
     "data": {
      "text/plain": [
       "1"
      ]
     },
     "execution_count": 27,
     "metadata": {},
     "output_type": "execute_result"
    }
   ],
   "source": [
    "# 순위\n",
    "try:\n",
    "    rank = int(li.select_one('.rank').get_text())\n",
    "except:\n",
    "    rank = 0\n",
    "rank"
   ]
  },
  {
   "cell_type": "code",
   "execution_count": 28,
   "metadata": {},
   "outputs": [
    {
     "data": {
      "text/plain": [
       "'봄여름가을겨울 (Still Life)'"
      ]
     },
     "execution_count": 28,
     "metadata": {},
     "output_type": "execute_result"
    }
   ],
   "source": [
    "# 제목\n",
    "if rank <= 50:\n",
    "    title = li.select_one('#lst50 > td:nth-child(6) > div > div > div.ellipsis.rank01 > span > a').get_text().strip()\n",
    "else:\n",
    "    title = li.select_one('#lst100 > td:nth-child(6) > div > div > div.ellipsis.rank01 > span > a').get_text().strip()\n",
    "title"
   ]
  },
  {
   "cell_type": "code",
   "execution_count": 31,
   "metadata": {},
   "outputs": [
    {
     "data": {
      "text/plain": [
       "'BIGBANG (빅뱅)'"
      ]
     },
     "execution_count": 31,
     "metadata": {},
     "output_type": "execute_result"
    }
   ],
   "source": [
    "# 가수\n",
    "artist = li.select_one('.ellipsis.rank02 > a').get_text().strip()\n",
    "artist"
   ]
  },
  {
   "cell_type": "code",
   "execution_count": 10,
   "metadata": {},
   "outputs": [
    {
     "data": {
      "text/plain": [
       "'너, 너 (N번째 연애 X 휘인 (Whee In))'"
      ]
     },
     "execution_count": 10,
     "metadata": {},
     "output_type": "execute_result"
    }
   ],
   "source": [
    "# 앨범명\n",
    "if rank <= 50:\n",
    "    album = li.select_one('#lst50 > td:nth-child(7) > div > div > div > a').get_text().strip()\n",
    "else:\n",
    "    album = li.select_one('#lst100 > td:nth-child(7) > div > div > div > a').get_text().strip()\n",
    "album"
   ]
  },
  {
   "cell_type": "markdown",
   "metadata": {},
   "source": [
    "- 1-4. 반복문을 사용하여 페이지에 있는 데이터 가져오기 및 오류 수정하기 (10점)"
   ]
  },
  {
   "cell_type": "code",
   "execution_count": 11,
   "metadata": {},
   "outputs": [],
   "source": [
    "line = []\n",
    "for li in lis:\n",
    "    try:\n",
    "        rank = int(li.select_one('.rank').get_text())\n",
    "    except:\n",
    "        rank = 0\n",
    "    if rank <= 50:\n",
    "        title = li.select_one('#lst50 > td:nth-child(6) > div > div > div.ellipsis.rank01 > span > a').get_text().strip()\n",
    "        artist = li.select_one('#lst50 > td:nth-child(6) > div > div > div.ellipsis.rank02 > a').get_text().strip()\n",
    "        album = li.select_one('#lst50 > td:nth-child(7) > div > div > div > a').get_text().strip()\n",
    "    else:\n",
    "        title = li.select_one('#lst100 > td:nth-child(6) > div > div > div.ellipsis.rank01 > span > a').get_text().strip()\n",
    "        artist = li.select_one('#lst100 > td:nth-child(6) > div > div > div.ellipsis.rank02 > a').get_text().strip()\n",
    "        album = li.select_one('#lst100 > td:nth-child(7) > div > div > div > a').get_text().strip()\n",
    "    line.append({'순위': rank, '제목': title, '가수': artist, '앨범명': album})"
   ]
  },
  {
   "cell_type": "markdown",
   "metadata": {},
   "source": [
    "- 1-5. 데이터프레임으로 만들고 저장하기 (10점)"
   ]
  },
  {
   "cell_type": "code",
   "execution_count": 12,
   "metadata": {},
   "outputs": [
    {
     "data": {
      "text/html": [
       "<div>\n",
       "<style scoped>\n",
       "    .dataframe tbody tr th:only-of-type {\n",
       "        vertical-align: middle;\n",
       "    }\n",
       "\n",
       "    .dataframe tbody tr th {\n",
       "        vertical-align: top;\n",
       "    }\n",
       "\n",
       "    .dataframe thead th {\n",
       "        text-align: right;\n",
       "    }\n",
       "</style>\n",
       "<table border=\"1\" class=\"dataframe\">\n",
       "  <thead>\n",
       "    <tr style=\"text-align: right;\">\n",
       "      <th></th>\n",
       "      <th>순위</th>\n",
       "      <th>제목</th>\n",
       "      <th>가수</th>\n",
       "      <th>앨범명</th>\n",
       "    </tr>\n",
       "  </thead>\n",
       "  <tbody>\n",
       "    <tr>\n",
       "      <th>97</th>\n",
       "      <td>98</td>\n",
       "      <td>D-DAY</td>\n",
       "      <td>휘인 (Whee In)</td>\n",
       "      <td>D-DAY</td>\n",
       "    </tr>\n",
       "    <tr>\n",
       "      <th>98</th>\n",
       "      <td>99</td>\n",
       "      <td>언덕나무</td>\n",
       "      <td>이승윤</td>\n",
       "      <td>그 해 우리는 OST Part.7</td>\n",
       "    </tr>\n",
       "    <tr>\n",
       "      <th>99</th>\n",
       "      <td>100</td>\n",
       "      <td>Can't Control Myself</td>\n",
       "      <td>태연 (TAEYEON)</td>\n",
       "      <td>Can't Control Myself</td>\n",
       "    </tr>\n",
       "  </tbody>\n",
       "</table>\n",
       "</div>"
      ],
      "text/plain": [
       "     순위                    제목            가수                   앨범명\n",
       "97   98                 D-DAY  휘인 (Whee In)                 D-DAY\n",
       "98   99                  언덕나무           이승윤    그 해 우리는 OST Part.7\n",
       "99  100  Can't Control Myself  태연 (TAEYEON)  Can't Control Myself"
      ]
     },
     "execution_count": 12,
     "metadata": {},
     "output_type": "execute_result"
    }
   ],
   "source": [
    "df = pd.DataFrame(line)\n",
    "df.tail(3)"
   ]
  },
  {
   "cell_type": "code",
   "execution_count": 13,
   "metadata": {},
   "outputs": [],
   "source": [
    "df.to_csv('멜론차트Top100.csv', index=False)"
   ]
  },
  {
   "cell_type": "markdown",
   "metadata": {},
   "source": [
    "### [문항 2] 멜론차트 일간, 장르종합에서 100곡의 순위, 제목, 가수, 앨범명을 크롤링하여 데이터프레임을 만들고 멜론차트일간.csv 파일을 만드세요. (50점)"
   ]
  },
  {
   "cell_type": "markdown",
   "metadata": {},
   "source": [
    "- 2-1. 데이터 가져오기 (10점)"
   ]
  },
  {
   "cell_type": "code",
   "execution_count": 14,
   "metadata": {},
   "outputs": [],
   "source": [
    "url2 = 'https://www.melon.com/chart/day/index.htm?classCd=GN0000'\n",
    "req2 = requests.get(url2, headers=header)\n",
    "# req2.text\n",
    "soup2 = BeautifulSoup(req2.text, 'html.parser')"
   ]
  },
  {
   "cell_type": "markdown",
   "metadata": {},
   "source": [
    "- 2-2. 원하는 데이터 찾기 (10점)"
   ]
  },
  {
   "cell_type": "code",
   "execution_count": 15,
   "metadata": {},
   "outputs": [
    {
     "data": {
      "text/plain": [
       "100"
      ]
     },
     "execution_count": 15,
     "metadata": {},
     "output_type": "execute_result"
    }
   ],
   "source": [
    "lis2 = soup2.select('#frm > div > table > tbody > tr')\n",
    "len(lis2)"
   ]
  },
  {
   "cell_type": "markdown",
   "metadata": {},
   "source": [
    "- 2-3. 하나를 선택해서 원하는 정보 추출하기 (10점)\n",
    "    - 순위, 제목, 가수, 앨범명"
   ]
  },
  {
   "cell_type": "code",
   "execution_count": 16,
   "metadata": {},
   "outputs": [],
   "source": [
    "li2=lis2[50]"
   ]
  },
  {
   "cell_type": "code",
   "execution_count": 17,
   "metadata": {},
   "outputs": [
    {
     "data": {
      "text/plain": [
       "51"
      ]
     },
     "execution_count": 17,
     "metadata": {},
     "output_type": "execute_result"
    }
   ],
   "source": [
    "# 순위\n",
    "try:\n",
    "    rank = int(li2.select_one('.rank').get_text())\n",
    "except:\n",
    "    rank = 0\n",
    "rank"
   ]
  },
  {
   "cell_type": "code",
   "execution_count": 18,
   "metadata": {},
   "outputs": [
    {
     "data": {
      "text/plain": [
       "'Celebrity'"
      ]
     },
     "execution_count": 18,
     "metadata": {},
     "output_type": "execute_result"
    }
   ],
   "source": [
    "# 제목\n",
    "if rank <= 50:\n",
    "    title = li2.select_one('#lst50 > td:nth-child(6) > div > div > div.ellipsis.rank01 > span > a').get_text().strip()\n",
    "else:\n",
    "    title = li2.select_one('#lst100 > td:nth-child(6) > div > div > div.ellipsis.rank01 > span > a').get_text().strip()\n",
    "title"
   ]
  },
  {
   "cell_type": "code",
   "execution_count": 19,
   "metadata": {},
   "outputs": [
    {
     "data": {
      "text/plain": [
       "'아이유'"
      ]
     },
     "execution_count": 19,
     "metadata": {},
     "output_type": "execute_result"
    }
   ],
   "source": [
    "# 가수\n",
    "if rank <= 50:\n",
    "    artist = li2.select_one('#lst50 > td:nth-child(6) > div > div > div.ellipsis.rank02 > a').get_text().strip()\n",
    "else:\n",
    "    artist = li2.select_one('#lst100 > td:nth-child(6) > div > div > div.ellipsis.rank02 > a').get_text().strip()\n",
    "artist"
   ]
  },
  {
   "cell_type": "code",
   "execution_count": 20,
   "metadata": {},
   "outputs": [
    {
     "data": {
      "text/plain": [
       "\"IU 5th Album 'LILAC'\""
      ]
     },
     "execution_count": 20,
     "metadata": {},
     "output_type": "execute_result"
    }
   ],
   "source": [
    "# 앨범명\n",
    "if rank <= 50:\n",
    "    album = li2.select_one('#lst50 > td:nth-child(7) > div > div > div > a').get_text().strip()\n",
    "else:\n",
    "    album = li2.select_one('#lst100 > td:nth-child(7) > div > div > div > a').get_text().strip()\n",
    "album"
   ]
  },
  {
   "cell_type": "markdown",
   "metadata": {},
   "source": [
    "- 2-4. 반복문을 사용하여 페이지에 있는 데이터 가져오기 및 오류 수정하기 (10점)"
   ]
  },
  {
   "cell_type": "code",
   "execution_count": 21,
   "metadata": {},
   "outputs": [],
   "source": [
    "line2 = []\n",
    "for li in lis2:\n",
    "    try:\n",
    "        rank = int(li.select_one('.rank').get_text())\n",
    "    except:\n",
    "        rank = 0\n",
    "    if rank <= 50:\n",
    "        title = li.select_one('#lst50 > td:nth-child(6) > div > div > div.ellipsis.rank01 > span > a').get_text().strip()\n",
    "        artist = li.select_one('#lst50 > td:nth-child(6) > div > div > div.ellipsis.rank02 > a').get_text().strip()\n",
    "        album = li.select_one('#lst50 > td:nth-child(7) > div > div > div > a').get_text().strip()\n",
    "    else:\n",
    "        title = li.select_one('#lst100 > td:nth-child(6) > div > div > div.ellipsis.rank01 > span > a').get_text().strip()\n",
    "        artist = li.select_one('#lst100 > td:nth-child(6) > div > div > div.ellipsis.rank02 > a').get_text().strip()\n",
    "        album = li.select_one('#lst100 > td:nth-child(7) > div > div > div > a').get_text().strip()\n",
    "    line2.append({'순위': rank, '제목': title, '가수': artist, '앨범명': album})"
   ]
  },
  {
   "cell_type": "markdown",
   "metadata": {},
   "source": [
    "- 2-5. 데이터프레임으로 만들고 저장하기 (10점)"
   ]
  },
  {
   "cell_type": "code",
   "execution_count": 22,
   "metadata": {},
   "outputs": [
    {
     "data": {
      "text/html": [
       "<div>\n",
       "<style scoped>\n",
       "    .dataframe tbody tr th:only-of-type {\n",
       "        vertical-align: middle;\n",
       "    }\n",
       "\n",
       "    .dataframe tbody tr th {\n",
       "        vertical-align: top;\n",
       "    }\n",
       "\n",
       "    .dataframe thead th {\n",
       "        text-align: right;\n",
       "    }\n",
       "</style>\n",
       "<table border=\"1\" class=\"dataframe\">\n",
       "  <thead>\n",
       "    <tr style=\"text-align: right;\">\n",
       "      <th></th>\n",
       "      <th>순위</th>\n",
       "      <th>제목</th>\n",
       "      <th>가수</th>\n",
       "      <th>앨범명</th>\n",
       "    </tr>\n",
       "  </thead>\n",
       "  <tbody>\n",
       "    <tr>\n",
       "      <th>97</th>\n",
       "      <td>98</td>\n",
       "      <td>오늘도 빛나는 너에게 (To You My Light) (Feat.이라온)</td>\n",
       "      <td>마크툽 (MAKTUB)</td>\n",
       "      <td>Red Moon : To You My Light</td>\n",
       "    </tr>\n",
       "    <tr>\n",
       "      <th>98</th>\n",
       "      <td>99</td>\n",
       "      <td>O.O</td>\n",
       "      <td>NMIXX</td>\n",
       "      <td>AD MARE</td>\n",
       "    </tr>\n",
       "    <tr>\n",
       "      <th>99</th>\n",
       "      <td>100</td>\n",
       "      <td>북극성 (Never Goodbye)</td>\n",
       "      <td>NCT DREAM</td>\n",
       "      <td>Glitch Mode - The 2nd Album</td>\n",
       "    </tr>\n",
       "  </tbody>\n",
       "</table>\n",
       "</div>"
      ],
      "text/plain": [
       "     순위                                        제목            가수  \\\n",
       "97   98  오늘도 빛나는 너에게 (To You My Light) (Feat.이라온)  마크툽 (MAKTUB)   \n",
       "98   99                                       O.O         NMIXX   \n",
       "99  100                       북극성 (Never Goodbye)     NCT DREAM   \n",
       "\n",
       "                            앨범명  \n",
       "97   Red Moon : To You My Light  \n",
       "98                      AD MARE  \n",
       "99  Glitch Mode - The 2nd Album  "
      ]
     },
     "execution_count": 22,
     "metadata": {},
     "output_type": "execute_result"
    }
   ],
   "source": [
    "df2 = pd.DataFrame(line2)\n",
    "df2.tail(3)"
   ]
  },
  {
   "cell_type": "code",
   "execution_count": 23,
   "metadata": {},
   "outputs": [],
   "source": [
    "df2.to_csv('멜론차트일간.csv', index=False)"
   ]
  }
 ],
 "metadata": {
  "interpreter": {
   "hash": "0e57b3e1c71b752f2155407481283ac520614bed1fdf3f32bca2723a92a6c7b4"
  },
  "kernelspec": {
   "display_name": "Python 3.9.7 ('base')",
   "language": "python",
   "name": "python3"
  },
  "language_info": {
   "codemirror_mode": {
    "name": "ipython",
    "version": 3
   },
   "file_extension": ".py",
   "mimetype": "text/x-python",
   "name": "python",
   "nbconvert_exporter": "python",
   "pygments_lexer": "ipython3",
   "version": "3.9.7"
  },
  "orig_nbformat": 4
 },
 "nbformat": 4,
 "nbformat_minor": 2
}
