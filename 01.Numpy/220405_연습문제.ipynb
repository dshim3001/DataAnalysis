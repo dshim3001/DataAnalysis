{
 "cells": [
  {
   "cell_type": "markdown",
   "metadata": {},
   "source": [
    "### Numpy 연습문제"
   ]
  },
  {
   "cell_type": "code",
   "execution_count": 3,
   "metadata": {},
   "outputs": [],
   "source": [
    "import numpy as np"
   ]
  },
  {
   "cell_type": "code",
   "execution_count": 11,
   "metadata": {},
   "outputs": [
    {
     "data": {
      "text/plain": [
       "array([[10, 20, 30, 40],\n",
       "       [50, 60, 70, 80]])"
      ]
     },
     "execution_count": 11,
     "metadata": {},
     "output_type": "execute_result"
    }
   ],
   "source": [
    "# 1. 넘파이를 사용하여 다음과 같은 행렬을 만드시오. \n",
    "# 10 20 30 40\n",
    "# 50 60 70 80\n",
    "\n",
    "np.arange(1,9).reshape(2,4) * 10\n",
    "np.arange(10,90,10).reshape(2,4)"
   ]
  },
  {
   "cell_type": "code",
   "execution_count": 4,
   "metadata": {},
   "outputs": [
    {
     "data": {
      "text/plain": [
       "(7,\n",
       " 14,\n",
       " array([[6, 7]]),\n",
       " array([[ 7],\n",
       "        [12]]),\n",
       " array([[13, 14]]))"
      ]
     },
     "execution_count": 4,
     "metadata": {},
     "output_type": "execute_result"
    }
   ],
   "source": [
    "# 2. 다음 행렬과 같은 행렬이 있다. m = np.array([[ 0, 1, 2, 3, 4], [ 5, 6, 7, 8, 9], [10, 11, 12, 13, 14]])\n",
    "# 1)이 행렬에서 값 7 을 인덱싱한다.\n",
    "# 2)이 행렬에서 값 14 을 인덱싱한다.\n",
    "# 3)이 행렬에서 배열 [6, 7] 을 슬라이싱한다.\n",
    "# 4)이 행렬에서 배열 [7, 12] 을 슬라이싱한다.\n",
    "# 5)이 행렬에서 배열 [[3, 4], [8, 9]] 을 슬라이싱한다.\n",
    "\n",
    "m = np.arange(15).reshape(3,5)\n",
    "m[1,2], m[-1,-1], m[1:2,1:3], m[1:,2:3]"
   ]
  },
  {
   "cell_type": "code",
   "execution_count": 10,
   "metadata": {},
   "outputs": [
    {
     "data": {
      "text/plain": [
       "array([[ 5,  6],\n",
       "       [10, 11]])"
      ]
     },
     "execution_count": 10,
     "metadata": {},
     "output_type": "execute_result"
    }
   ],
   "source": [
    "m[-2:,:2]"
   ]
  },
  {
   "cell_type": "code",
   "execution_count": 25,
   "metadata": {},
   "outputs": [
    {
     "data": {
      "text/plain": [
       "(array([ 0,  3,  6,  9, 12]), array([ 1,  5,  9, 13]), array([9]))"
      ]
     },
     "execution_count": 25,
     "metadata": {},
     "output_type": "execute_result"
    }
   ],
   "source": [
    "# 3. 2번의 행렬 m을 1차원 벡터 f 로 변환한 후 다음의 문제를 푸시오.\n",
    "# 1)이 배열에서 3의 배수를 찾아라.\n",
    "# 2)이 배열에서 4로 나누면 1이 남는 수를 찾아라.\n",
    "# 3)이 배열에서 3으로 나누면 나누어지고 4로 나누면 1이 남는 수를 찾아라.\n",
    "\n",
    "f = m.flatten()\n",
    "f[f % 3 == 0], f[f % 4 == 1], f[np.logical_and(f % 3 == 0, f % 4 == 1)]"
   ]
  },
  {
   "cell_type": "code",
   "execution_count": 28,
   "metadata": {},
   "outputs": [
    {
     "data": {
      "text/plain": [
       "array([[2, 1, 0, 0, 0],\n",
       "       [3, 2, 1, 0, 0],\n",
       "       [0, 3, 2, 1, 0],\n",
       "       [0, 0, 3, 2, 1],\n",
       "       [0, 0, 0, 3, 2]])"
      ]
     },
     "execution_count": 28,
     "metadata": {},
     "output_type": "execute_result"
    }
   ],
   "source": [
    "# 4. 값을 직접 입력하지 말고 우측의 행렬을 만드시오.\n",
    "# 2, 1, 0, 0, 0 \n",
    "# 3, 2, 1, 0, 0 \n",
    "# 0, 3, 2, 1, 0 \n",
    "# 0, 0, 3, 2, 1 \n",
    "# 0, 0, 0, 3, 2\n",
    "\n",
    "#positional arg가 항상 keyword arg (N=~)보다 먼저 와야함\n",
    "np.eye(5,5,k=0, dtype=int) * 2 + np.eye(5,5,k=-1, dtype=int) * 3 + np.eye(5,5,k=1, dtype=int)"
   ]
  },
  {
   "cell_type": "code",
   "execution_count": 13,
   "metadata": {},
   "outputs": [
    {
     "data": {
      "text/plain": [
       "array([[ 0.1029,  5.4896,  1.2472,  0.5497,  7.5395,  5.3569],\n",
       "       [ 9.8742,  7.122 ,  9.8666,  7.9325,  9.1449,  9.1032],\n",
       "       [ 9.1694, 10.5275,  4.0485,  5.4432,  3.7346,  6.8137],\n",
       "       [10.7528,  1.0608,  8.1863,  3.2175,  3.2854,  8.2772],\n",
       "       [ 0.2053,  5.7611,  9.5088,  4.2773,  2.3341,  5.227 ]])"
      ]
     },
     "execution_count": 13,
     "metadata": {},
     "output_type": "execute_result"
    }
   ],
   "source": [
    "# 5. 0에서 10까지 랜덤 실수값으로 이루어진 5 x 6 형태의 데이터 행렬을 만들고 \n",
    "# 이 데이터에 대해 다음과 같은 값을 구하시오.\n",
    "# 1)전체의 최댓값\n",
    "# 2)각 행의 합\n",
    "# 3)각 행의 최댓값\n",
    "# 4)각 열의 평균\n",
    "# 5)각 열의 최솟값\n",
    "\n",
    "np.random.seed(2022)\n",
    "b = np.random.uniform(0,11,30).reshape(5,6).round(4)\n",
    "b"
   ]
  },
  {
   "cell_type": "code",
   "execution_count": 14,
   "metadata": {},
   "outputs": [
    {
     "data": {
      "text/plain": [
       "10.7528"
      ]
     },
     "execution_count": 14,
     "metadata": {},
     "output_type": "execute_result"
    }
   ],
   "source": [
    "b.max()"
   ]
  },
  {
   "cell_type": "code",
   "execution_count": 15,
   "metadata": {},
   "outputs": [
    {
     "data": {
      "text/plain": [
       "array([20.2858, 53.0434, 39.7369, 34.78  , 27.3136])"
      ]
     },
     "execution_count": 15,
     "metadata": {},
     "output_type": "execute_result"
    }
   ],
   "source": [
    "b.sum(axis=1)"
   ]
  },
  {
   "cell_type": "code",
   "execution_count": 16,
   "metadata": {},
   "outputs": [
    {
     "data": {
      "text/plain": [
       "array([ 7.5395,  9.8742, 10.5275, 10.7528,  9.5088])"
      ]
     },
     "execution_count": 16,
     "metadata": {},
     "output_type": "execute_result"
    }
   ],
   "source": [
    "b.max(axis=1)"
   ]
  },
  {
   "cell_type": "code",
   "execution_count": 17,
   "metadata": {},
   "outputs": [
    {
     "data": {
      "text/plain": [
       "array([6.02092, 5.9922 , 6.57148, 4.28404, 5.2077 , 6.9556 ])"
      ]
     },
     "execution_count": 17,
     "metadata": {},
     "output_type": "execute_result"
    }
   ],
   "source": [
    "b.mean(axis=0)"
   ]
  },
  {
   "cell_type": "code",
   "execution_count": 18,
   "metadata": {},
   "outputs": [
    {
     "data": {
      "text/plain": [
       "array([0.1029, 1.0608, 1.2472, 0.5497, 2.3341, 5.227 ])"
      ]
     },
     "execution_count": 18,
     "metadata": {},
     "output_type": "execute_result"
    }
   ],
   "source": [
    "b.min(axis=0)"
   ]
  },
  {
   "cell_type": "code",
   "execution_count": 26,
   "metadata": {},
   "outputs": [
    {
     "data": {
      "text/plain": [
       "array([[  1,   2,   3,   4],\n",
       "       [ 46,  99, 100,  71],\n",
       "       [ 81,  59,  90, 100]])"
      ]
     },
     "execution_count": 26,
     "metadata": {},
     "output_type": "execute_result"
    }
   ],
   "source": [
    "# 6. 다음 배열은 첫번째 행(row)에 학번, 두번째 행에 영어 성적, \n",
    "# 세번째 행에 수학 성적을 적은 배열이다. 영어 성적을 기준으로 \n",
    "# 각 열(column)을 재정렬하시오. \n",
    "# array([[ 1, 2, 3, 4], [ 46, 99, 100, 71], [ 81, 59, 90, 100]])\n",
    "\n",
    "score = np.array([[ 1, 2, 3, 4], [ 46, 99, 100, 71], [ 81, 59, 90, 100]])\n",
    "score\n",
    "#np.sort(score, axis=1)[::-1]\n"
   ]
  },
  {
   "cell_type": "code",
   "execution_count": 27,
   "metadata": {},
   "outputs": [
    {
     "data": {
      "text/plain": [
       "array([0, 3, 1, 2], dtype=int64)"
      ]
     },
     "execution_count": 27,
     "metadata": {},
     "output_type": "execute_result"
    }
   ],
   "source": [
    "indices = np.argsort(score[1])\n",
    "indices"
   ]
  },
  {
   "cell_type": "code",
   "execution_count": 28,
   "metadata": {},
   "outputs": [
    {
     "data": {
      "text/plain": [
       "array([2, 1, 3, 0], dtype=int64)"
      ]
     },
     "execution_count": 28,
     "metadata": {},
     "output_type": "execute_result"
    }
   ],
   "source": [
    "indices[::-1]"
   ]
  },
  {
   "cell_type": "code",
   "execution_count": 29,
   "metadata": {},
   "outputs": [
    {
     "data": {
      "text/plain": [
       "array([[  3,   2,   4,   1],\n",
       "       [100,  99,  71,  46],\n",
       "       [ 90,  59, 100,  81]])"
      ]
     },
     "execution_count": 29,
     "metadata": {},
     "output_type": "execute_result"
    }
   ],
   "source": [
    "score[:, indices[::-1]]"
   ]
  },
  {
   "cell_type": "code",
   "execution_count": 30,
   "metadata": {},
   "outputs": [
    {
     "data": {
      "text/plain": [
       "array([[  3,   2,   4,   1],\n",
       "       [100,  99,  71,  46],\n",
       "       [ 90,  59, 100,  81]])"
      ]
     },
     "execution_count": 30,
     "metadata": {},
     "output_type": "execute_result"
    }
   ],
   "source": [
    "score[:, np.argsort(score[1])[::-1]]"
   ]
  },
  {
   "cell_type": "code",
   "execution_count": 32,
   "metadata": {},
   "outputs": [
    {
     "data": {
      "text/plain": [
       "array([6, 5, 6, 1, 2, 2, 1, 1, 3, 1, 1, 6, 2, 2, 4, 4, 4, 1, 4, 1, 4, 1,\n",
       "       6, 1, 3, 3, 4, 2, 3, 1, 6, 6, 2, 6, 6, 5, 1, 3, 3, 3, 4, 5, 6, 2,\n",
       "       3, 5, 1, 6, 6, 5, 3, 6, 1, 6, 6, 6, 6, 6, 1, 4, 4, 3, 5, 1, 2, 5,\n",
       "       2, 1, 6, 6, 1, 1, 4, 2, 6, 4, 3, 2, 6, 3, 2, 5, 2, 3, 3, 2, 6, 2,\n",
       "       3, 2, 5, 4, 1, 5, 5, 5, 5, 1, 2, 3])"
      ]
     },
     "execution_count": 32,
     "metadata": {},
     "output_type": "execute_result"
    }
   ],
   "source": [
    "# 7. 주사위를 100번 던지는 가상 실험을 파이썬으로 작성하고, \n",
    "# 던져서 나오는 숫자의 평균을 구하시오.\n",
    "\n",
    "np.random.seed(2022)\n",
    "dice = np.random.randint(1,7,100)\n",
    "dice"
   ]
  },
  {
   "cell_type": "code",
   "execution_count": 33,
   "metadata": {},
   "outputs": [
    {
     "data": {
      "text/plain": [
       "3.47"
      ]
     },
     "execution_count": 33,
     "metadata": {},
     "output_type": "execute_result"
    }
   ],
   "source": [
    "np.mean(dice)"
   ]
  },
  {
   "cell_type": "code",
   "execution_count": 34,
   "metadata": {},
   "outputs": [
    {
     "data": {
      "text/plain": [
       "array([1, 2, 3, 4, 5, 6])"
      ]
     },
     "execution_count": 34,
     "metadata": {},
     "output_type": "execute_result"
    }
   ],
   "source": [
    "# duce array에서의 고유값\n",
    "np.unique(dice)"
   ]
  },
  {
   "cell_type": "code",
   "execution_count": 35,
   "metadata": {},
   "outputs": [
    {
     "data": {
      "text/plain": [
       "(array([1, 2, 3, 4, 5, 6]), array([20, 17, 16, 12, 13, 22], dtype=int64))"
      ]
     },
     "execution_count": 35,
     "metadata": {},
     "output_type": "execute_result"
    }
   ],
   "source": [
    "# dice array에서 고유값 및 그 갯수\n",
    "np.unique(dice, return_counts=True)"
   ]
  },
  {
   "cell_type": "code",
   "execution_count": 36,
   "metadata": {},
   "outputs": [
    {
     "data": {
      "text/plain": [
       "{1: 20, 2: 17, 3: 16, 4: 12, 5: 13, 6: 22}"
      ]
     },
     "execution_count": 36,
     "metadata": {},
     "output_type": "execute_result"
    }
   ],
   "source": [
    "unique, counts = np.unique(dice, return_counts=True)\n",
    "dict(zip(unique, counts))"
   ]
  },
  {
   "cell_type": "code",
   "execution_count": 37,
   "metadata": {},
   "outputs": [],
   "source": [
    "# 8. 가격이 10,000원인 주식이 있다. 이 주식의 일간 수익률(%)은 기댓값이 0%이고 \n",
    "# 표준편차가 1%인 표준 정규 분포를 따른다고 하자. \n",
    "# 250일 동안의 주가를 무작위로 생성하시오.\n",
    "\n",
    "#10000 * ((100 + np.random.randn(250))/100)"
   ]
  },
  {
   "cell_type": "code",
   "execution_count": 40,
   "metadata": {},
   "outputs": [
    {
     "name": "stdout",
     "output_type": "stream",
     "text": [
      "10000 9973 9959 10157 10186 "
     ]
    }
   ],
   "source": [
    "# 5개만 먼저 테스트\n",
    "np.random.seed(2022)\n",
    "rate = np.random.normal(0,0.01,5)\n",
    "price = 10000\n",
    "for i in range(5):\n",
    "    price = np.round(price * (1 + rate[i]))\n",
    "    print(int(price), end=' ')"
   ]
  },
  {
   "cell_type": "code",
   "execution_count": 41,
   "metadata": {},
   "outputs": [
    {
     "data": {
      "text/plain": [
       "array([-5.27899086e-04, -2.74901425e-01, -1.39285562e-01,  1.98468616e+00,\n",
       "        2.82109326e-01])"
      ]
     },
     "execution_count": 41,
     "metadata": {},
     "output_type": "execute_result"
    }
   ],
   "source": [
    "# 위에서 구한 이자율(%)\n",
    "rate * 100"
   ]
  },
  {
   "cell_type": "code",
   "execution_count": 44,
   "metadata": {},
   "outputs": [
    {
     "data": {
      "text/plain": [
       "array([10916, 10834, 10753, 10838, 10950, 11089, 11006, 11182, 11360,\n",
       "       11658])"
      ]
     },
     "execution_count": 44,
     "metadata": {},
     "output_type": "execute_result"
    }
   ],
   "source": [
    "# 250개 정규분포, list 활용\n",
    "np.random.seed(2022)\n",
    "rate = np.random.normal(0,0.01,250)\n",
    "price = 10000\n",
    "price_list = []\n",
    "for i in range(250):\n",
    "    price = price + np.round(price * rate[i])\n",
    "    price_list.append(price)\n",
    "\n",
    "price_array = np.array(price_list, dtype=np.int32)\n",
    "price_array[-10:]"
   ]
  },
  {
   "cell_type": "code",
   "execution_count": 46,
   "metadata": {},
   "outputs": [
    {
     "data": {
      "text/plain": [
       "array([10916, 10834, 10753, 10838, 10950, 11089, 11006, 11182, 11360,\n",
       "       11658])"
      ]
     },
     "execution_count": 46,
     "metadata": {},
     "output_type": "execute_result"
    }
   ],
   "source": [
    "# 정규분포, array 활용\n",
    "np.random.seed(2022)\n",
    "rate = np.random.normal(0,0.01,250)\n",
    "price = 10000\n",
    "price_array = np.empty(250, dtype=np.int32)\n",
    "\n",
    "for i in range(250):\n",
    "    price = price + np.round(price * rate[i])\n",
    "    price_array[i] = price\n",
    "\n",
    "price_array[-10:]"
   ]
  },
  {
   "cell_type": "code",
   "execution_count": 47,
   "metadata": {},
   "outputs": [
    {
     "data": {
      "text/plain": [
       "array([10916, 10834, 10753, 10838, 10950, 11089, 11006, 11182, 11360,\n",
       "       11658])"
      ]
     },
     "execution_count": 47,
     "metadata": {},
     "output_type": "execute_result"
    }
   ],
   "source": [
    "np.random.seed(2022)\n",
    "rate = np.random.randn(250)         # %가 아니라 숫자로 나오므로 뒤에 0.01 곱해주면 됨\n",
    "price = 10000\n",
    "price_array = np.empty(250, dtype=np.int32)\n",
    "\n",
    "for i in range(250):\n",
    "    price = price + np.round(price * rate[i]*0.01)          #여기\n",
    "    price_array[i] = price\n",
    "\n",
    "price_array[-10:]"
   ]
  },
  {
   "cell_type": "code",
   "execution_count": null,
   "metadata": {},
   "outputs": [],
   "source": []
  }
 ],
 "metadata": {
  "interpreter": {
   "hash": "0e57b3e1c71b752f2155407481283ac520614bed1fdf3f32bca2723a92a6c7b4"
  },
  "kernelspec": {
   "display_name": "Python 3.9.7 ('base')",
   "language": "python",
   "name": "python3"
  },
  "language_info": {
   "codemirror_mode": {
    "name": "ipython",
    "version": 3
   },
   "file_extension": ".py",
   "mimetype": "text/x-python",
   "name": "python",
   "nbconvert_exporter": "python",
   "pygments_lexer": "ipython3",
   "version": "3.9.7"
  },
  "orig_nbformat": 4
 },
 "nbformat": 4,
 "nbformat_minor": 2
}
